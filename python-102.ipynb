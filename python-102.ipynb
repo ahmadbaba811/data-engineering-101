{
 "cells": [
  {
   "cell_type": "code",
   "execution_count": 14,
   "id": "7dc1d761",
   "metadata": {},
   "outputs": [
    {
     "name": "stdout",
     "output_type": "stream",
     "text": [
      "0\n",
      "1\n",
      "2\n",
      "3\n",
      "4\n",
      "5\n",
      "6\n",
      "7\n",
      "8\n",
      "9\n"
     ]
    }
   ],
   "source": [
    "\n",
    "# SYNTAX ERROS\n",
    "# When the code does not conforms to the rule of the language\n",
    "\n",
    "for i in range(10):\n",
    "    print(i)\n",
    "\n",
    "\n",
    "# removing the : throws a syntax erros\n",
    "# improper indentation will cause syntax error\n",
    "# missing quotes will cause a syntax error"
   ]
  },
  {
   "cell_type": "code",
   "execution_count": 15,
   "id": "f66397f3",
   "metadata": {},
   "outputs": [
    {
     "data": {
      "text/plain": [
       "8"
      ]
     },
     "execution_count": 15,
     "metadata": {},
     "output_type": "execute_result"
    }
   ],
   "source": [
    "# LOGICAL ERROS\n",
    "# Right code but wrong logic\n",
    "# Doing something not intended\n",
    "# e.g. subtracting instead of adding two numbers\n",
    "\n",
    "def double_number(num):\n",
    "    return num + num\n",
    "\n",
    "double_number(4)\n",
    "# Ideally, it should be multiply * instead of +\n",
    "\n",
    "# RUN TIME ERROS\n",
    "# OTHER DATA RELATED ERRORS"
   ]
  },
  {
   "cell_type": "code",
   "execution_count": 16,
   "id": "71471796",
   "metadata": {},
   "outputs": [
    {
     "ename": "ZeroDivisionError",
     "evalue": "division by zero",
     "output_type": "error",
     "traceback": [
      "\u001b[1;31m---------------------------------------------------------------------------\u001b[0m",
      "\u001b[1;31mZeroDivisionError\u001b[0m                         Traceback (most recent call last)",
      "Cell \u001b[1;32mIn[16], line 6\u001b[0m\n\u001b[0;32m      1\u001b[0m \u001b[38;5;66;03m# RUNTIME ERROR\u001b[39;00m\n\u001b[0;32m      2\u001b[0m \u001b[38;5;66;03m# errors that occur while the code is running\u001b[39;00m\n\u001b[0;32m      3\u001b[0m \u001b[38;5;66;03m# code may be correct, syntax may be correct but something happened \u001b[39;00m\n\u001b[0;32m      4\u001b[0m \u001b[38;5;66;03m# e.g failed database connection\u001b[39;00m\n\u001b[0;32m      5\u001b[0m x \u001b[38;5;241m=\u001b[39m \u001b[38;5;241m2\u001b[39m; y\u001b[38;5;241m=\u001b[39m\u001b[38;5;241m0\u001b[39m\n\u001b[1;32m----> 6\u001b[0m \u001b[38;5;28mprint\u001b[39m(x\u001b[38;5;241m/\u001b[39my)\n",
      "\u001b[1;31mZeroDivisionError\u001b[0m: division by zero"
     ]
    }
   ],
   "source": [
    "# RUNTIME ERROR\n",
    "# errors that occur while the code is running\n",
    "# code may be correct, syntax may be correct but something happened \n",
    "# e.g failed database connection\n",
    "x = 2; y=0\n",
    "print(x/y)\n",
    "# failed bacuase nothing devides 0\n",
    "# other examples are missing file, wrong file etc\n"
   ]
  },
  {
   "cell_type": "code",
   "execution_count": null,
   "id": "3efb4ac6",
   "metadata": {},
   "outputs": [
    {
     "ename": "TypeError",
     "evalue": "'>' not supported between instances of 'str' and 'int'",
     "output_type": "error",
     "traceback": [
      "\u001b[1;31m---------------------------------------------------------------------------\u001b[0m",
      "\u001b[1;31mTypeError\u001b[0m                                 Traceback (most recent call last)",
      "Cell \u001b[1;32mIn[8], line 5\u001b[0m\n\u001b[0;32m      1\u001b[0m \u001b[38;5;66;03m# OTHER RELATED ERROR\u001b[39;00m\n\u001b[0;32m      2\u001b[0m \u001b[38;5;66;03m# data type errors\u001b[39;00m\n\u001b[0;32m      3\u001b[0m \u001b[38;5;66;03m# e.g\u001b[39;00m\n\u001b[0;32m      4\u001b[0m age \u001b[38;5;241m=\u001b[39m \u001b[38;5;124m\"\u001b[39m\u001b[38;5;124mtwenty\u001b[39m\u001b[38;5;124m\"\u001b[39m\n\u001b[1;32m----> 5\u001b[0m \u001b[38;5;28;01mif\u001b[39;00m(age \u001b[38;5;241m>\u001b[39m \u001b[38;5;241m20\u001b[39m):\n\u001b[0;32m      6\u001b[0m     \u001b[38;5;28mprint\u001b[39m(\u001b[38;5;124m\"\u001b[39m\u001b[38;5;124mSenior\u001b[39m\u001b[38;5;124m\"\u001b[39m)\n",
      "\u001b[1;31mTypeError\u001b[0m: '>' not supported between instances of 'str' and 'int'"
     ]
    }
   ],
   "source": [
    "# OTHER RELATED ERROR\n",
    "# data type errors\n",
    "# e.g\n",
    "age = \"twenty\"\n",
    "if(age > 20):\n",
    "    print(\"Senior\")\n",
    "\n",
    "# error because data type in comparison is not supported"
   ]
  },
  {
   "cell_type": "code",
   "execution_count": null,
   "id": "ab80568b",
   "metadata": {},
   "outputs": [
    {
     "name": "stdout",
     "output_type": "stream",
     "text": [
      "Todays date is 2020 11 12\n"
     ]
    }
   ],
   "source": [
    "date_str = \"2020-12-11\"\n",
    "year, date, month = map(int, date_str.split(\"-\"))\n",
    "print(f\"Todays date is {year} {month} {date}\")"
   ]
  },
  {
   "cell_type": "markdown",
   "id": "1bb860cf",
   "metadata": {},
   "source": [
    "SQL Concepts\n",
    "\n",
    "SQL - structured query language\n",
    "Tables - a frame where data is stored\n",
    "Views - combination of tables\n",
    "Primary key - A unique identifier in a table\n",
    "Foriengn Key - A primary key as a field in another table\n",
    "\n",
    "Fact Table - Table which stores primary keys as foriengn keys and quantitative details i.e FACTS about an event, sales, or activities whic have been carried out by processes or people whose details are stored in the dimension tables.\n",
    "\n",
    "Dimension Table - Stores descriptive or qualitative information of things or people with their primary keys whose quantitative activities or items are in the fact table e.g Name, address etc\n",
    "\n",
    "\n",
    "SQL COMMANDS\n",
    "DDL - Data Definition Langauages\n",
    "    Used to define the database structure: Create, Drop, Alter, Truncate\n",
    "\n",
    "DML - Data Manipulation Language\n",
    "    Used to manage data in the database: Insert, update, delete\n",
    "\n",
    "DCL - Data Control Language\n",
    "    To manage access to a database: Grant, Revoke\n",
    "\n",
    "DQL - Data Query Language\n",
    "    To retrieve data from the database: Select\n",
    "\n",
    "\n",
    "DATA TYPES IN SQL\n",
    "Numeric: int, decimal or numeric (numbers with fixed precision), float or real (numbers where precision is not critical), \n",
    "            bigint, tinyint, bit (true or false usually, 0 0r 1)\n",
    "\n",
    "String: Char (for fixed length characters e.g country code), Varchar (when the length of the char is not know, e.g Names),\n",
    "        text (for longer legth texts, e.g comments, descriptions, essays etc), \n",
    "        Nchar and Nvarchar (similar to char and varchar but for Unicode characters e.g names from other languages such as texts with apostrohe's or alphabets with strokes or caps on them)\n",
    "\n",
    "Date: Date (year, month and dat), time (hour:seconds), datetime (date and time), timestamp (current date and time), \n",
    "        year (year)\n",
    "\n",
    "\n",
    "CONSTRAINS\n",
    "Primary Keys - Unique identifies\n",
    "Foreign Keys - Primary keys from another table\n",
    "Not NULL - Ensures there's something in the field\n",
    "NULL - Allows nothing in the field\n",
    "UNIQUE - Ensures values in this field are all different\n",
    "DEFAULT - Value to be saved when nothing is inserted in that field\n",
    "\n",
    "\n",
    "DATA MODELLING\n",
    "Normalisation: A way of organising data in a database to reduce redundancy and improve data integrity by dividing larger tables into smaller related tables\n",
    "\n",
    "Redundancy: Occurance of repeated data unnencessarily \n",
    "\n",
    "First Normal Form (1NF): All columns would contain Atomic values, columns should contain one data type, each row will be unique i.e no repeition\n",
    "\n",
    "Second Normal Form (2NF): The table would already be in 1NF, tables would be broken down into modular parts and be linked by primary and foriegn keys\n",
    "\n",
    "Third Normal Form (3NF): Table would already be in 2NF, there should be no transitive dependencies, i.e columns that are non-keys should not depend on non-key columns\n",
    "\n",
    "\n",
    "ENTITY RELATIONS DIAGRAM (ERD)\n",
    "A diagram that shows the relationships between tables\n",
    "Tools to draw ERDs include lucidchart, draw.io\n",
    "\n",
    "LUCID CAHRT\n",
    "Shapes to use on lucid chart\n",
    "1. entity diagrams 2. cardinality (1-to-1, 1-to-many, many-to-1, many-to-many)\n",
    "\n",
    "STAR SCHEMA\n",
    "A schema where the fact table is in the middle and the dimension tables are spread out in a star-like format\n",
    "\n",
    "SNOWFLAKE SCHEMA\n",
    "A schema where the table is normalized even further such that some fields are modularised to have their own table so as to reduce redundancy i.e. where new tables are created to just serve as lookup tables\n",
    "In this case, the star-schema is further exapanded such that the entities on the star edges have smaller entities linked by a primary and foriegn key\n",
    "\n",
    "\n",
    "\n"
   ]
  },
  {
   "cell_type": "markdown",
   "id": "525539fb",
   "metadata": {},
   "source": [
    "Databases are used to store structured, trsanctional data for real-time use purposes (day-to-day data processing)\n",
    "They are normalized to reduce redundancy and increase efficiency and integrity\n",
    "\n",
    "Datawarehouses are used to store large, historical, complex data in other to serve data for purposes such as machine learning models, data streaming, analysis etc\n",
    "\n",
    "Databases\n",
    "Databases are used for day-to-day operational use (OLTP – Online Transaction Processing).\n",
    "- Designed for fast inserts, updates, and retrievals.\n",
    "- Store current data in a normalized form to reduce redundancy.\n",
    "- Used in applications like banking systems, CRMs, web apps.\n",
    "Example in banking:\n",
    "Tables like Customers, Accounts, Transactions, Loans are normalized.\n",
    "Each transaction is logged in real time, searchable by account, etc.\n",
    "\n",
    "\n",
    "Data Warehouses\n",
    "Data warehouses are used for analytical and reporting purposes (OLAP – Online Analytical Processing).\n",
    "- Optimized for reading and aggregating large volumes of data.\n",
    "- Often use denormalized schemas like star or snowflake schema.\n",
    "- Data is structured for data mining, ML, BI, trend analysis.\n",
    "\n",
    "\n",
    "In a Database (OLTP) - Tables are normalized\n",
    "In a Datawarehouse (OLAP) - Tables are denormalized and prepared either in star schema or modular shcema (where each domain like transactions and loans have their own schema with fact tables and dimension tables)\n",
    "\n"
   ]
  },
  {
   "cell_type": "markdown",
   "id": "a587e4a4",
   "metadata": {},
   "source": [
    "\n",
    "NUMPY - Numerical Python\n",
    "\n",
    "A list is referred to as Array in Numpy\n",
    "A one dimensional array is called a vector\n"
   ]
  },
  {
   "cell_type": "code",
   "execution_count": 2,
   "id": "8651c774",
   "metadata": {
    "vscode": {
     "languageId": "markdown"
    }
   },
   "outputs": [
    {
     "data": {
      "text/plain": [
       "list"
      ]
     },
     "execution_count": 2,
     "metadata": {},
     "output_type": "execute_result"
    }
   ],
   "source": [
    "import numpy as np\n",
    "\n",
    "# converting a list to array\n",
    "vec = [1,2,3,4]\n",
    "type(vec)\n"
   ]
  },
  {
   "cell_type": "code",
   "execution_count": 3,
   "id": "bfa2c182",
   "metadata": {
    "vscode": {
     "languageId": "markdown"
    }
   },
   "outputs": [
    {
     "data": {
      "text/plain": [
       "numpy.ndarray"
      ]
     },
     "execution_count": 3,
     "metadata": {},
     "output_type": "execute_result"
    }
   ],
   "source": [
    "vec = np.array(vec)\n",
    "type(vec)"
   ]
  },
  {
   "cell_type": "code",
   "execution_count": 4,
   "id": "d8c5dbcf",
   "metadata": {
    "vscode": {
     "languageId": "markdown"
    }
   },
   "outputs": [
    {
     "name": "stdout",
     "output_type": "stream",
     "text": [
      "[[1 2 4]\n",
      " [1 4 5]\n",
      " [3 1 2]]\n",
      "shape of the array (3, 3)\n"
     ]
    }
   ],
   "source": [
    "# MATRICES\n",
    "mat = np.array([[1,2,4], [1,4,5], [3,1,2]])\n",
    "print(mat)\n",
    "print(f\"shape of the array {mat.shape}\")"
   ]
  },
  {
   "cell_type": "code",
   "execution_count": 7,
   "id": "8295dfe8",
   "metadata": {
    "vscode": {
     "languageId": "markdown"
    }
   },
   "outputs": [
    {
     "name": "stdout",
     "output_type": "stream",
     "text": [
      "[[0. 0. 0.]\n",
      " [0. 0. 0.]]\n",
      "[[1. 1. 1. 1.]\n",
      " [1. 1. 1. 1.]]\n"
     ]
    }
   ],
   "source": [
    "# ZEROS AND ONES ARRAY\n",
    "\n",
    "print(np.zeros((2,3)))\n",
    "print(np.ones((2,4)))"
   ]
  },
  {
   "cell_type": "code",
   "execution_count": 28,
   "id": "4481161f",
   "metadata": {
    "vscode": {
     "languageId": "markdown"
    }
   },
   "outputs": [
    {
     "name": "stdout",
     "output_type": "stream",
     "text": [
      "[[1 2 4]\n",
      " [1 4 5]\n",
      " [3 1 2]]\n"
     ]
    },
    {
     "data": {
      "text/plain": [
       "array([[1, 2],\n",
       "       [1, 4],\n",
       "       [3, 1]])"
      ]
     },
     "execution_count": 28,
     "metadata": {},
     "output_type": "execute_result"
    }
   ],
   "source": [
    "# SLICING IN MATRIX ARRAY\n",
    "# to get a one dimensional array, the format of slicing is np.array[vertical index, horizontal indes]\n",
    "# in multi dimensional array, np.array[vertical start:vertical end, horizontal start:horizontal end]\n",
    "\n",
    "print(mat)\n",
    "\n",
    "# get the first top left element\n",
    "mat[0, 0]\n",
    "\n",
    "# top row\n",
    "mat[0, :]\n",
    "\n",
    "# first column\n",
    "mat[:, 0]\n",
    "\n",
    "# first two rows, first two columns\n",
    "mat[0:3, 0:2 ]\n"
   ]
  },
  {
   "cell_type": "code",
   "execution_count": 30,
   "id": "acde601b",
   "metadata": {
    "vscode": {
     "languageId": "markdown"
    }
   },
   "outputs": [
    {
     "name": "stdout",
     "output_type": "stream",
     "text": [
      "[4 4 5 3]\n",
      "[4 4 5]\n"
     ]
    }
   ],
   "source": [
    "### Boolean array slicing (Conditional slicing)\n",
    "# values greater than two\n",
    "print(mat[mat>2])\n",
    "\n",
    "# multiple conditions\n",
    "print(mat[(mat<1) | (mat >3)])"
   ]
  },
  {
   "cell_type": "code",
   "execution_count": 47,
   "id": "8065280e",
   "metadata": {
    "vscode": {
     "languageId": "markdown"
    }
   },
   "outputs": [
    {
     "name": "stdout",
     "output_type": "stream",
     "text": [
      "[[1 2 4]\n",
      " [1 4 5]\n",
      " [3 1 2]]\n",
      "[[ 1  2  4  4]\n",
      " [ 1  4  5 12]\n",
      " [ 3  1  2  1]]\n",
      "[[ 1  2  4]\n",
      " [ 1  4  5]\n",
      " [ 3  1  2]\n",
      " [ 4 12  1]]\n"
     ]
    }
   ],
   "source": [
    "# Modifying grid or matrices\n",
    "# appending np.append(matrix, [[values]], row or column) where axis=0 is row, axis=1 is columns\n",
    "# appending np.append(matrix, [[values]], row or column) where axis=0 is row, axis=1 is columns\n",
    "print(mat)\n",
    "mat_append_col = np.append(mat, [[4],[12],[1]], axis=1)\n",
    "mat_append_row = np.append(mat, [[4,12,1]], axis=0)\n",
    "print(mat_append_col)\n",
    "print(mat_append_row)"
   ]
  },
  {
   "cell_type": "code",
   "execution_count": 50,
   "id": "c967e1ca",
   "metadata": {
    "vscode": {
     "languageId": "markdown"
    }
   },
   "outputs": [
    {
     "data": {
      "text/plain": [
       "array([[1, 2],\n",
       "       [1, 4],\n",
       "       [3, 1]])"
      ]
     },
     "execution_count": 50,
     "metadata": {},
     "output_type": "execute_result"
    }
   ],
   "source": [
    "# removing rows\n",
    "# np.delete(matrix, [row_or_column_index], axis)\n",
    "mat\n",
    "mat_rm_row = np.delete(mat, [2], axis=1)\n",
    "mat_rm_row"
   ]
  },
  {
   "cell_type": "code",
   "execution_count": 69,
   "id": "29f7e618",
   "metadata": {
    "vscode": {
     "languageId": "markdown"
    }
   },
   "outputs": [
    {
     "data": {
      "text/plain": [
       "array([ 0,  5, 10, 15, 20, 25, 30, 35, 40, 45])"
      ]
     },
     "execution_count": 69,
     "metadata": {},
     "output_type": "execute_result"
    }
   ],
   "source": [
    "# NUMPY METHODS\n",
    "# arange, reshape, linspace, eye\n",
    "\n",
    "mat_range = np.arange(0,50, 5)\n",
    "mat_range"
   ]
  },
  {
   "cell_type": "code",
   "execution_count": 61,
   "id": "191d01bb",
   "metadata": {
    "vscode": {
     "languageId": "markdown"
    }
   },
   "outputs": [
    {
     "data": {
      "text/plain": [
       "array([[ 0,  1,  2,  3],\n",
       "       [ 4,  5,  6,  7],\n",
       "       [ 8,  9, 10, 11],\n",
       "       [12, 13, 14, 15],\n",
       "       [16, 17, 18, 19]])"
      ]
     },
     "execution_count": 61,
     "metadata": {},
     "output_type": "execute_result"
    }
   ],
   "source": [
    "mat_range.shape\n",
    "# reshape, changes the shape of the array\n",
    "# to get a successful reshape, the specified shape when multiplied should be equal to the number of total items in the original array \n",
    "# e.g mat_r = 20 items, mat_reshape = 5*4 = 20\n",
    "\n",
    "mat_r = np.arange(0,20)\n",
    "mat_reshape = mat_r.reshape(5,4)\n",
    "mat_reshape"
   ]
  },
  {
   "cell_type": "code",
   "execution_count": 76,
   "id": "901cb6c6",
   "metadata": {
    "vscode": {
     "languageId": "markdown"
    }
   },
   "outputs": [
    {
     "data": {
      "text/plain": [
       "array([ 0.,  5., 10., 15., 20.])"
      ]
     },
     "execution_count": 76,
     "metadata": {},
     "output_type": "execute_result"
    }
   ],
   "source": [
    "# linspace - creates array with an evenly spaced interval\n",
    "mat_linspace = np.linspace(0,20, 5)\n",
    "mat_linspace"
   ]
  },
  {
   "cell_type": "code",
   "execution_count": 79,
   "id": "fe145076",
   "metadata": {
    "vscode": {
     "languageId": "markdown"
    }
   },
   "outputs": [
    {
     "data": {
      "text/plain": [
       "array([[1., 0., 0., 0.],\n",
       "       [0., 1., 0., 0.],\n",
       "       [0., 0., 1., 0.],\n",
       "       [0., 0., 0., 1.]])"
      ]
     },
     "execution_count": 79,
     "metadata": {},
     "output_type": "execute_result"
    }
   ],
   "source": [
    "# eye, used to create an identity matrix\n",
    "mat_eye = np.eye(4)\n",
    "mat_eye"
   ]
  },
  {
   "cell_type": "code",
   "execution_count": 94,
   "id": "8acfb755",
   "metadata": {
    "vscode": {
     "languageId": "markdown"
    }
   },
   "outputs": [
    {
     "name": "stdout",
     "output_type": "stream",
     "text": [
      "[[1 2 4]\n",
      " [1 4 5]\n",
      " [3 1 2]]\n"
     ]
    },
    {
     "data": {
      "text/plain": [
       "array([0, 2, 2], dtype=int64)"
      ]
     },
     "execution_count": 94,
     "metadata": {},
     "output_type": "execute_result"
    }
   ],
   "source": [
    "# sum, max, min, etc\n",
    "print(mat)\n",
    "mat.sum(axis=1) # by row\n",
    "# mat.sum(axis=0) # by column\n",
    "\n",
    "# min of each column\n",
    "mat.min(axis=0)\n",
    "# index of min value in each column\n",
    "mat.argmin(axis=0)\n",
    "\n",
    "# min of each row\n",
    "# mat.min(axis=1)\n",
    "\n"
   ]
  },
  {
   "cell_type": "code",
   "execution_count": 104,
   "id": "13ba42d7",
   "metadata": {
    "vscode": {
     "languageId": "markdown"
    }
   },
   "outputs": [
    {
     "data": {
      "text/plain": [
       "array([[ 8,  7,  2, 15],\n",
       "       [ 4, 11,  9,  9],\n",
       "       [15, 10, 16, 19],\n",
       "       [ 1,  4, 13,  5]])"
      ]
     },
     "execution_count": 104,
     "metadata": {},
     "output_type": "execute_result"
    }
   ],
   "source": [
    "# Random, randn, randint, randn\n",
    "\n",
    "mat_rand = np.random.rand(3,6)\n",
    "mat_rand\n",
    "\n",
    "# randn: creates array from a normal distribution \n",
    "mat_randn = np.random.randn(3,4)\n",
    "mat_randn\n",
    "\n",
    "# randint: creates array with integers\n",
    "mat_randint = np.random.randint(1, 20, size=(4,4))\n",
    "mat_randint"
   ]
  },
  {
   "cell_type": "code",
   "execution_count": null,
   "id": "4aa446e9",
   "metadata": {
    "vscode": {
     "languageId": "markdown"
    }
   },
   "outputs": [],
   "source": []
  },
  {
   "cell_type": "markdown",
   "id": "26dc279c",
   "metadata": {},
   "source": [
    "PANDAS - Panel Data\n",
    "\n",
    "Is like the typical table with rows and columns\n",
    "Used for\n",
    "1. Data transformation\n",
    "2. Advanced data filtering\n",
    "3. Indexing and slicing\n",
    "4. Merging and joining\n",
    "5. Handling missing data\n",
    "6. Data type conversions etc"
   ]
  },
  {
   "cell_type": "code",
   "execution_count": 105,
   "id": "a0cd0cae",
   "metadata": {
    "vscode": {
     "languageId": "markdown"
    }
   },
   "outputs": [],
   "source": [
    "import pandas as pd"
   ]
  },
  {
   "cell_type": "code",
   "execution_count": 107,
   "id": "52d4f1f1",
   "metadata": {
    "vscode": {
     "languageId": "markdown"
    }
   },
   "outputs": [
    {
     "name": "stdout",
     "output_type": "stream",
     "text": [
      "0    23\n",
      "1    12\n",
      "2    15\n",
      "3    34\n",
      "Name: PD List, dtype: int64\n"
     ]
    }
   ],
   "source": [
    "# creating pandas series from a list\n",
    "pd_list = [23,12,15, 34]\n",
    "pd_series = pd.Series(pd_list, name='PD List')\n",
    "print(pd_series)"
   ]
  },
  {
   "cell_type": "code",
   "execution_count": 109,
   "id": "d13807e0",
   "metadata": {
    "vscode": {
     "languageId": "markdown"
    }
   },
   "outputs": [
    {
     "data": {
      "text/plain": [
       "a    30\n",
       "b    45\n",
       "c    39\n",
       "d    22\n",
       "dtype: int64"
      ]
     },
     "execution_count": 109,
     "metadata": {},
     "output_type": "execute_result"
    }
   ],
   "source": [
    "# creating pandas series from a dictionary\n",
    "pd_dict = {'a':30, 'b':45, 'c':39, 'd':22}\n",
    "pd_ser_dict = pd.Series(pd_dict)\n",
    "pd_ser_dict"
   ]
  },
  {
   "cell_type": "code",
   "execution_count": 110,
   "id": "bf05d672",
   "metadata": {
    "vscode": {
     "languageId": "markdown"
    }
   },
   "outputs": [
    {
     "data": {
      "text/plain": [
       "0    12\n",
       "1    13\n",
       "2    24\n",
       "3    50\n",
       "4     3\n",
       "dtype: int32"
      ]
     },
     "execution_count": 110,
     "metadata": {},
     "output_type": "execute_result"
    }
   ],
   "source": [
    "# pandas series from a numpy array\n",
    "np_array = np.array([12,13,24,50,3])\n",
    "pd_series_np_arr = pd.Series(np_array)\n",
    "pd_series_np_arr"
   ]
  },
  {
   "cell_type": "code",
   "execution_count": 119,
   "id": "6b1a09b5",
   "metadata": {},
   "outputs": [
    {
     "data": {
      "text/html": [
       "<div>\n",
       "<style scoped>\n",
       "    .dataframe tbody tr th:only-of-type {\n",
       "        vertical-align: middle;\n",
       "    }\n",
       "\n",
       "    .dataframe tbody tr th {\n",
       "        vertical-align: top;\n",
       "    }\n",
       "\n",
       "    .dataframe thead th {\n",
       "        text-align: right;\n",
       "    }\n",
       "</style>\n",
       "<table border=\"1\" class=\"dataframe\">\n",
       "  <thead>\n",
       "    <tr style=\"text-align: right;\">\n",
       "      <th></th>\n",
       "      <th>customerID</th>\n",
       "      <th>age</th>\n",
       "      <th>income</th>\n",
       "    </tr>\n",
       "  </thead>\n",
       "  <tbody>\n",
       "    <tr>\n",
       "      <th>0</th>\n",
       "      <td>001</td>\n",
       "      <td>24</td>\n",
       "      <td>24000</td>\n",
       "    </tr>\n",
       "    <tr>\n",
       "      <th>1</th>\n",
       "      <td>003</td>\n",
       "      <td>22</td>\n",
       "      <td>30000</td>\n",
       "    </tr>\n",
       "  </tbody>\n",
       "</table>\n",
       "</div>"
      ],
      "text/plain": [
       "  customerID  age  income\n",
       "0        001   24   24000\n",
       "1        003   22   30000"
      ]
     },
     "execution_count": 119,
     "metadata": {},
     "output_type": "execute_result"
    }
   ],
   "source": [
    "# creating a data frame from a list\n",
    "cu_columns = ['customerID', 'age', 'income']\n",
    "cu_data = [['001', 24, 24000], ['003', 22, 30000]]\n",
    "customer_df = pd.DataFrame(cu_data, columns = cu_columns)\n",
    "customer_df"
   ]
  },
  {
   "cell_type": "code",
   "execution_count": 123,
   "id": "39182063",
   "metadata": {},
   "outputs": [
    {
     "name": "stdout",
     "output_type": "stream",
     "text": [
      "   customerID  age  income\n",
      "0        1001   24   24000\n",
      "1        1002   22   30000\n",
      "2        1003   26   45000\n"
     ]
    }
   ],
   "source": [
    "# creating data frame from dictionary\n",
    "dict_data = {'customerID':[1001, 1002, 1003], 'age':[24,22, 26], 'income': [24000, 30000, 45000]}\n",
    "dict_df = pd.DataFrame(dict_data)\n",
    "print(dict_df)"
   ]
  },
  {
   "cell_type": "code",
   "execution_count": null,
   "id": "7e938574",
   "metadata": {},
   "outputs": [
    {
     "data": {
      "text/html": [
       "<div>\n",
       "<style scoped>\n",
       "    .dataframe tbody tr th:only-of-type {\n",
       "        vertical-align: middle;\n",
       "    }\n",
       "\n",
       "    .dataframe tbody tr th {\n",
       "        vertical-align: top;\n",
       "    }\n",
       "\n",
       "    .dataframe thead th {\n",
       "        text-align: right;\n",
       "    }\n",
       "</style>\n",
       "<table border=\"1\" class=\"dataframe\">\n",
       "  <thead>\n",
       "    <tr style=\"text-align: right;\">\n",
       "      <th></th>\n",
       "      <th>customerID</th>\n",
       "      <th>age</th>\n",
       "      <th>income</th>\n",
       "    </tr>\n",
       "  </thead>\n",
       "  <tbody>\n",
       "    <tr>\n",
       "      <th>0</th>\n",
       "      <td>1</td>\n",
       "      <td>24</td>\n",
       "      <td>24000</td>\n",
       "    </tr>\n",
       "    <tr>\n",
       "      <th>1</th>\n",
       "      <td>3</td>\n",
       "      <td>22</td>\n",
       "      <td>30000</td>\n",
       "    </tr>\n",
       "  </tbody>\n",
       "</table>\n",
       "</div>"
      ],
      "text/plain": [
       "   customerID  age  income\n",
       "0           1   24   24000\n",
       "1           3   22   30000"
      ]
     },
     "execution_count": 136,
     "metadata": {},
     "output_type": "execute_result"
    }
   ],
   "source": [
    "## BASIC OPERATIONS IN PANDAS\n",
    "\n",
    "# selecting a column\n",
    "customer_df['age']\n",
    "\n",
    "#selecting multiple columns\n",
    "customer_df[['customerID', 'age']]\n",
    "\n",
    "# adding a new columns\n",
    "customer_df['savings'] = customer_df['income']*0.1\n",
    "customer_df\n",
    "\n",
    "# deleting a columns\n",
    "del customer_df['savings']\n",
    "customer_df\n",
    "\n",
    "# wrting data frame to CSV file\n",
    "customer_df.to_csv('customer_data.csv', index=False)\n",
    "\n",
    "# reading a CSV file into a dataframe\n",
    "# use r in pathname to ignore backward slash or alternatively manually change the backward slash to forward slashes\n",
    "customer = pd.read_csv(r'C:\\coding-trainings\\10Alytics\\Code/customer_data.csv')\n",
    "customer"
   ]
  },
  {
   "cell_type": "code",
   "execution_count": 141,
   "id": "30dee3ef",
   "metadata": {},
   "outputs": [
    {
     "data": {
      "text/html": [
       "<div>\n",
       "<style scoped>\n",
       "    .dataframe tbody tr th:only-of-type {\n",
       "        vertical-align: middle;\n",
       "    }\n",
       "\n",
       "    .dataframe tbody tr th {\n",
       "        vertical-align: top;\n",
       "    }\n",
       "\n",
       "    .dataframe thead th {\n",
       "        text-align: right;\n",
       "    }\n",
       "</style>\n",
       "<table border=\"1\" class=\"dataframe\">\n",
       "  <thead>\n",
       "    <tr style=\"text-align: right;\">\n",
       "      <th></th>\n",
       "      <th>customerID</th>\n",
       "      <th>age</th>\n",
       "      <th>income</th>\n",
       "    </tr>\n",
       "  </thead>\n",
       "  <tbody>\n",
       "    <tr>\n",
       "      <th>1</th>\n",
       "      <td>003</td>\n",
       "      <td>22</td>\n",
       "      <td>30000</td>\n",
       "    </tr>\n",
       "  </tbody>\n",
       "</table>\n",
       "</div>"
      ],
      "text/plain": [
       "  customerID  age  income\n",
       "1        003   22   30000"
      ]
     },
     "execution_count": 141,
     "metadata": {},
     "output_type": "execute_result"
    }
   ],
   "source": [
    "# filtering\n",
    "income_df = customer_df[['age', 'income']]\n",
    "income_df\n",
    "\n",
    "# high income df\n",
    "high_income = customer_df[customer_df['income'] > 25000]\n",
    "high_income"
   ]
  },
  {
   "cell_type": "code",
   "execution_count": 145,
   "id": "466d1ef6",
   "metadata": {},
   "outputs": [
    {
     "data": {
      "text/plain": [
       "24"
      ]
     },
     "execution_count": 145,
     "metadata": {},
     "output_type": "execute_result"
    }
   ],
   "source": [
    "# performing basic aggregation\n",
    "# sum\n",
    "total_income = customer_df['income'].sum()\n",
    "total_income\n",
    "\n",
    "# mean\n",
    "avg_age = customer_df['age'].mean()\n",
    "avg_age\n",
    "\n",
    "# max\n",
    "max_age = customer_df['age'].max()\n",
    "max_age"
   ]
  },
  {
   "cell_type": "code",
   "execution_count": 204,
   "id": "04002f3e",
   "metadata": {},
   "outputs": [
    {
     "name": "stdout",
     "output_type": "stream",
     "text": [
      "   customerID products  expenses\n",
      "0        1001     fish      2000\n",
      "1        1002  maggies      1500\n",
      "2        1003    books      3050\n",
      "   customerID  age  income\n",
      "0        1001   24   24000\n",
      "1        1002   22   30000\n"
     ]
    },
    {
     "data": {
      "text/html": [
       "<div>\n",
       "<style scoped>\n",
       "    .dataframe tbody tr th:only-of-type {\n",
       "        vertical-align: middle;\n",
       "    }\n",
       "\n",
       "    .dataframe tbody tr th {\n",
       "        vertical-align: top;\n",
       "    }\n",
       "\n",
       "    .dataframe thead th {\n",
       "        text-align: right;\n",
       "    }\n",
       "</style>\n",
       "<table border=\"1\" class=\"dataframe\">\n",
       "  <thead>\n",
       "    <tr style=\"text-align: right;\">\n",
       "      <th></th>\n",
       "      <th>customerID</th>\n",
       "      <th>age</th>\n",
       "      <th>income</th>\n",
       "      <th>products</th>\n",
       "      <th>expenses</th>\n",
       "    </tr>\n",
       "  </thead>\n",
       "  <tbody>\n",
       "    <tr>\n",
       "      <th>0</th>\n",
       "      <td>1001</td>\n",
       "      <td>24.0</td>\n",
       "      <td>24000.0</td>\n",
       "      <td>fish</td>\n",
       "      <td>2000</td>\n",
       "    </tr>\n",
       "    <tr>\n",
       "      <th>1</th>\n",
       "      <td>1002</td>\n",
       "      <td>22.0</td>\n",
       "      <td>30000.0</td>\n",
       "      <td>maggies</td>\n",
       "      <td>1500</td>\n",
       "    </tr>\n",
       "    <tr>\n",
       "      <th>2</th>\n",
       "      <td>1003</td>\n",
       "      <td>NaN</td>\n",
       "      <td>NaN</td>\n",
       "      <td>books</td>\n",
       "      <td>3050</td>\n",
       "    </tr>\n",
       "  </tbody>\n",
       "</table>\n",
       "</div>"
      ],
      "text/plain": [
       "   customerID   age   income products  expenses\n",
       "0        1001  24.0  24000.0     fish      2000\n",
       "1        1002  22.0  30000.0  maggies      1500\n",
       "2        1003   NaN      NaN    books      3050"
      ]
     },
     "execution_count": 204,
     "metadata": {},
     "output_type": "execute_result"
    }
   ],
   "source": [
    "## Joins or merges\n",
    "customer_df = customer_df\n",
    "customer_df['customerID'] = [1001, 1002]\n",
    "sales_data = {\n",
    "    'customerID': [1001, 1002, 1003],\n",
    "    'products':['fish', 'maggies', 'books'],\n",
    "    'expenses': [2000, 1500, 3050]\n",
    "}\n",
    "sales_df = pd.DataFrame(sales_data)\n",
    "print(sales_df)\n",
    "print(customer_df)\n",
    "# inner join\n",
    "customer_inventory = pd.merge(customer_df, sales_df, on='customerID', how='outer');\n",
    "customer_inventory"
   ]
  },
  {
   "cell_type": "code",
   "execution_count": null,
   "id": "a7decd9e",
   "metadata": {},
   "outputs": [
    {
     "name": "stdout",
     "output_type": "stream",
     "text": [
      "   customerID   age   income products  expenses\n",
      "0        1001  24.0  24000.0     fish      2000\n",
      "1        1002  22.0  30000.0  maggies      1500\n",
      "   customerID   age   income products  expenses\n",
      "0        1001  24.0  24000.0     fish      2000\n",
      "1        1002  22.0  30000.0  maggies      1500\n",
      "2        1003  23.0     23.0    books      3050\n"
     ]
    }
   ],
   "source": [
    "## ADVANCED PANDAS TOPICS\n",
    "# reading excel file\n",
    "excel_df = pd.read_csv('customer_data.csv')\n",
    "\n",
    "# handling missing values\n",
    "# 1. Find out if there are missing values\n",
    "#customer_inventory.info()\n",
    "\n",
    "# METHOD 1\n",
    "# 2. Remove the rows with missing values\n",
    "clean_cust_inv = customer_inventory.dropna()\n",
    "print(clean_cust_inv)\n",
    "\n",
    "# METHOD 2\n",
    "# Use advanced algorthims to fill in the missing values\n",
    "# such as using mean or median values or by interpolation\n",
    "fill_cust_inv = customer_inventory.fillna(customer_inventory['age'].mean())\n",
    "print(fill_cust_inv)\n",
    "\n"
   ]
  },
  {
   "cell_type": "code",
   "execution_count": 200,
   "id": "50936cc8",
   "metadata": {},
   "outputs": [
    {
     "name": "stdout",
     "output_type": "stream",
     "text": [
      "<class 'pandas.core.frame.DataFrame'>\n",
      "RangeIndex: 3 entries, 0 to 2\n",
      "Data columns (total 5 columns):\n",
      " #   Column      Non-Null Count  Dtype  \n",
      "---  ------      --------------  -----  \n",
      " 0   customerID  3 non-null      int64  \n",
      " 1   age         2 non-null      float64\n",
      " 2   income      2 non-null      float64\n",
      " 3   products    3 non-null      object \n",
      " 4   expenses    3 non-null      int32  \n",
      "dtypes: float64(2), int32(1), int64(1), object(1)\n",
      "memory usage: 240.0+ bytes\n",
      "<class 'pandas.core.frame.DataFrame'>\n",
      "RangeIndex: 3 entries, 0 to 2\n",
      "Data columns (total 5 columns):\n",
      " #   Column      Non-Null Count  Dtype  \n",
      "---  ------      --------------  -----  \n",
      " 0   customerID  3 non-null      int64  \n",
      " 1   age         3 non-null      float64\n",
      " 2   income      3 non-null      float64\n",
      " 3   products    3 non-null      object \n",
      " 4   expenses    3 non-null      int32  \n",
      "dtypes: float64(2), int32(1), int64(1), object(1)\n",
      "memory usage: 240.0+ bytes\n"
     ]
    }
   ],
   "source": [
    "# checking columns datatype\n",
    "customer_inventory.info()\n",
    "\n",
    "# converting types\n",
    "fill_cust_inv['expenses'] = fill_cust_inv['expenses'].astype(int)\n",
    "fill_cust_inv.info()"
   ]
  },
  {
   "cell_type": "code",
   "execution_count": 221,
   "id": "21f02904",
   "metadata": {},
   "outputs": [
    {
     "data": {
      "text/html": [
       "<div>\n",
       "<style scoped>\n",
       "    .dataframe tbody tr th:only-of-type {\n",
       "        vertical-align: middle;\n",
       "    }\n",
       "\n",
       "    .dataframe tbody tr th {\n",
       "        vertical-align: top;\n",
       "    }\n",
       "\n",
       "    .dataframe thead tr th {\n",
       "        text-align: left;\n",
       "    }\n",
       "\n",
       "    .dataframe thead tr:last-of-type th {\n",
       "        text-align: right;\n",
       "    }\n",
       "</style>\n",
       "<table border=\"1\" class=\"dataframe\">\n",
       "  <thead>\n",
       "    <tr>\n",
       "      <th></th>\n",
       "      <th colspan=\"2\" halign=\"left\">expenses</th>\n",
       "    </tr>\n",
       "    <tr>\n",
       "      <th></th>\n",
       "      <th>sum</th>\n",
       "      <th>mean</th>\n",
       "    </tr>\n",
       "    <tr>\n",
       "      <th>products</th>\n",
       "      <th></th>\n",
       "      <th></th>\n",
       "    </tr>\n",
       "  </thead>\n",
       "  <tbody>\n",
       "    <tr>\n",
       "      <th>books</th>\n",
       "      <td>3050</td>\n",
       "      <td>3050.0</td>\n",
       "    </tr>\n",
       "    <tr>\n",
       "      <th>fish</th>\n",
       "      <td>3300</td>\n",
       "      <td>1650.0</td>\n",
       "    </tr>\n",
       "    <tr>\n",
       "      <th>maggies</th>\n",
       "      <td>3500</td>\n",
       "      <td>1750.0</td>\n",
       "    </tr>\n",
       "    <tr>\n",
       "      <th>meat</th>\n",
       "      <td>5000</td>\n",
       "      <td>5000.0</td>\n",
       "    </tr>\n",
       "  </tbody>\n",
       "</table>\n",
       "</div>"
      ],
      "text/plain": [
       "         expenses        \n",
       "              sum    mean\n",
       "products                 \n",
       "books        3050  3050.0\n",
       "fish         3300  1650.0\n",
       "maggies      3500  1750.0\n",
       "meat         5000  5000.0"
      ]
     },
     "execution_count": 221,
     "metadata": {},
     "output_type": "execute_result"
    }
   ],
   "source": [
    "# GROUPING AND AGGREGATING\n",
    "\n",
    "# Adding rows to a dataframe\n",
    "new_sales_data = pd.DataFrame([\n",
    "    {'customerID':'1004', 'products':'fish', 'expenses': 1300},\n",
    "    {'customerID':'1005', 'products':'maggies', 'expenses': 2000},\n",
    "    {'customerID':'1006', 'products':'meat', 'expenses': 5000},\n",
    "])\n",
    "\n",
    "sales_df_2 = pd.concat([sales_df, new_sales_data], ignore_index=True)\n",
    "\n",
    "# grouping by products\n",
    "grouped_sales = sales_df_2.groupby('products').agg({'expenses':['sum','mean']})\n",
    "grouped_sales\n"
   ]
  },
  {
   "cell_type": "code",
   "execution_count": 230,
   "id": "06ace8f6",
   "metadata": {},
   "outputs": [
    {
     "data": {
      "text/html": [
       "<div>\n",
       "<style scoped>\n",
       "    .dataframe tbody tr th:only-of-type {\n",
       "        vertical-align: middle;\n",
       "    }\n",
       "\n",
       "    .dataframe tbody tr th {\n",
       "        vertical-align: top;\n",
       "    }\n",
       "\n",
       "    .dataframe thead th {\n",
       "        text-align: right;\n",
       "    }\n",
       "</style>\n",
       "<table border=\"1\" class=\"dataframe\">\n",
       "  <thead>\n",
       "    <tr style=\"text-align: right;\">\n",
       "      <th></th>\n",
       "      <th>customerID</th>\n",
       "      <th>products</th>\n",
       "      <th>expenses</th>\n",
       "    </tr>\n",
       "  </thead>\n",
       "  <tbody>\n",
       "    <tr>\n",
       "      <th>0</th>\n",
       "      <td>1001</td>\n",
       "      <td>fish</td>\n",
       "      <td>2000</td>\n",
       "    </tr>\n",
       "    <tr>\n",
       "      <th>1</th>\n",
       "      <td>1002</td>\n",
       "      <td>maggies</td>\n",
       "      <td>1500</td>\n",
       "    </tr>\n",
       "    <tr>\n",
       "      <th>2</th>\n",
       "      <td>1003</td>\n",
       "      <td>books</td>\n",
       "      <td>3050</td>\n",
       "    </tr>\n",
       "    <tr>\n",
       "      <th>3</th>\n",
       "      <td>1004</td>\n",
       "      <td>fish</td>\n",
       "      <td>1300</td>\n",
       "    </tr>\n",
       "    <tr>\n",
       "      <th>4</th>\n",
       "      <td>1005</td>\n",
       "      <td>maggies</td>\n",
       "      <td>2000</td>\n",
       "    </tr>\n",
       "    <tr>\n",
       "      <th>5</th>\n",
       "      <td>1006</td>\n",
       "      <td>meat</td>\n",
       "      <td>5000</td>\n",
       "    </tr>\n",
       "  </tbody>\n",
       "</table>\n",
       "</div>"
      ],
      "text/plain": [
       "  customerID products  expenses\n",
       "0       1001     fish      2000\n",
       "1       1002  maggies      1500\n",
       "2       1003    books      3050\n",
       "3       1004     fish      1300\n",
       "4       1005  maggies      2000\n",
       "5       1006     meat      5000"
      ]
     },
     "execution_count": 230,
     "metadata": {},
     "output_type": "execute_result"
    }
   ],
   "source": [
    "# handling duplicate values\n",
    "\n",
    "# METHOD 1\n",
    "# Drop duplicateed rows\n",
    "dup_row = pd.DataFrame([{'customerID':'1006', 'products':'meat', 'expenses': 5000}])\n",
    "sales_df_2 = pd.concat([sales_df_2, dup_row], ignore_index=True)\n",
    "sales_df_2\n",
    "\n",
    "sales_df_2 = sales_df_2.drop_duplicates(subset='customerID', keep='first')\n",
    "sales_df_2"
   ]
  },
  {
   "cell_type": "code",
   "execution_count": 233,
   "id": "d613a29f",
   "metadata": {},
   "outputs": [
    {
     "data": {
      "text/html": [
       "<div>\n",
       "<style scoped>\n",
       "    .dataframe tbody tr th:only-of-type {\n",
       "        vertical-align: middle;\n",
       "    }\n",
       "\n",
       "    .dataframe tbody tr th {\n",
       "        vertical-align: top;\n",
       "    }\n",
       "\n",
       "    .dataframe thead th {\n",
       "        text-align: right;\n",
       "    }\n",
       "</style>\n",
       "<table border=\"1\" class=\"dataframe\">\n",
       "  <thead>\n",
       "    <tr style=\"text-align: right;\">\n",
       "      <th></th>\n",
       "      <th>customerID</th>\n",
       "      <th>products</th>\n",
       "      <th>expense</th>\n",
       "    </tr>\n",
       "  </thead>\n",
       "  <tbody>\n",
       "    <tr>\n",
       "      <th>5</th>\n",
       "      <td>1006</td>\n",
       "      <td>meat</td>\n",
       "      <td>5000</td>\n",
       "    </tr>\n",
       "    <tr>\n",
       "      <th>2</th>\n",
       "      <td>1003</td>\n",
       "      <td>books</td>\n",
       "      <td>3050</td>\n",
       "    </tr>\n",
       "    <tr>\n",
       "      <th>0</th>\n",
       "      <td>1001</td>\n",
       "      <td>fish</td>\n",
       "      <td>2000</td>\n",
       "    </tr>\n",
       "    <tr>\n",
       "      <th>4</th>\n",
       "      <td>1005</td>\n",
       "      <td>maggies</td>\n",
       "      <td>2000</td>\n",
       "    </tr>\n",
       "    <tr>\n",
       "      <th>1</th>\n",
       "      <td>1002</td>\n",
       "      <td>maggies</td>\n",
       "      <td>1500</td>\n",
       "    </tr>\n",
       "    <tr>\n",
       "      <th>3</th>\n",
       "      <td>1004</td>\n",
       "      <td>fish</td>\n",
       "      <td>1300</td>\n",
       "    </tr>\n",
       "  </tbody>\n",
       "</table>\n",
       "</div>"
      ],
      "text/plain": [
       "  customerID products  expense\n",
       "5       1006     meat     5000\n",
       "2       1003    books     3050\n",
       "0       1001     fish     2000\n",
       "4       1005  maggies     2000\n",
       "1       1002  maggies     1500\n",
       "3       1004     fish     1300"
      ]
     },
     "execution_count": 233,
     "metadata": {},
     "output_type": "execute_result"
    }
   ],
   "source": [
    "# SORTING DATA\n",
    "sorted_df = sales_df_2.sort_values(by='expenses', ascending=False)\n",
    "sorted_df\n",
    "\n",
    "# RENAMING A COLUMNS\n",
    "sorted_df = sorted_df.rename(columns={'expenses':'expense'})\n",
    "sorted_df"
   ]
  },
  {
   "cell_type": "code",
   "execution_count": 245,
   "id": "fc39140b",
   "metadata": {},
   "outputs": [
    {
     "data": {
      "text/html": [
       "<div>\n",
       "<style scoped>\n",
       "    .dataframe tbody tr th:only-of-type {\n",
       "        vertical-align: middle;\n",
       "    }\n",
       "\n",
       "    .dataframe tbody tr th {\n",
       "        vertical-align: top;\n",
       "    }\n",
       "\n",
       "    .dataframe thead th {\n",
       "        text-align: right;\n",
       "    }\n",
       "</style>\n",
       "<table border=\"1\" class=\"dataframe\">\n",
       "  <thead>\n",
       "    <tr style=\"text-align: right;\">\n",
       "      <th></th>\n",
       "      <th>customerID</th>\n",
       "      <th>products</th>\n",
       "      <th>expense</th>\n",
       "    </tr>\n",
       "  </thead>\n",
       "  <tbody>\n",
       "    <tr>\n",
       "      <th>2</th>\n",
       "      <td>1003</td>\n",
       "      <td>books</td>\n",
       "      <td>3050</td>\n",
       "    </tr>\n",
       "  </tbody>\n",
       "</table>\n",
       "</div>"
      ],
      "text/plain": [
       "  customerID products  expense\n",
       "2       1003    books     3050"
      ]
     },
     "execution_count": 245,
     "metadata": {},
     "output_type": "execute_result"
    }
   ],
   "source": [
    "# CONDITIONAL SELECTIONS\n",
    "cond_filt = sorted_df[(sorted_df['expense'] > 2000) & (sorted_df['expense'] < 5000)]\n",
    "cond_filt\n"
   ]
  },
  {
   "cell_type": "code",
   "execution_count": 262,
   "id": "cfce21ef",
   "metadata": {},
   "outputs": [
    {
     "data": {
      "text/html": [
       "<div>\n",
       "<style scoped>\n",
       "    .dataframe tbody tr th:only-of-type {\n",
       "        vertical-align: middle;\n",
       "    }\n",
       "\n",
       "    .dataframe tbody tr th {\n",
       "        vertical-align: top;\n",
       "    }\n",
       "\n",
       "    .dataframe thead th {\n",
       "        text-align: right;\n",
       "    }\n",
       "</style>\n",
       "<table border=\"1\" class=\"dataframe\">\n",
       "  <thead>\n",
       "    <tr style=\"text-align: right;\">\n",
       "      <th></th>\n",
       "      <th>products</th>\n",
       "      <th>expenses</th>\n",
       "    </tr>\n",
       "    <tr>\n",
       "      <th>customerID</th>\n",
       "      <th></th>\n",
       "      <th></th>\n",
       "    </tr>\n",
       "  </thead>\n",
       "  <tbody>\n",
       "    <tr>\n",
       "      <th>1001</th>\n",
       "      <td>fish</td>\n",
       "      <td>2000</td>\n",
       "    </tr>\n",
       "    <tr>\n",
       "      <th>1002</th>\n",
       "      <td>maggies</td>\n",
       "      <td>1500</td>\n",
       "    </tr>\n",
       "    <tr>\n",
       "      <th>1003</th>\n",
       "      <td>books</td>\n",
       "      <td>3050</td>\n",
       "    </tr>\n",
       "    <tr>\n",
       "      <th>1004</th>\n",
       "      <td>fish</td>\n",
       "      <td>1300</td>\n",
       "    </tr>\n",
       "    <tr>\n",
       "      <th>1005</th>\n",
       "      <td>maggies</td>\n",
       "      <td>2000</td>\n",
       "    </tr>\n",
       "    <tr>\n",
       "      <th>1006</th>\n",
       "      <td>meat</td>\n",
       "      <td>5000</td>\n",
       "    </tr>\n",
       "  </tbody>\n",
       "</table>\n",
       "</div>"
      ],
      "text/plain": [
       "           products  expenses\n",
       "customerID                   \n",
       "1001           fish      2000\n",
       "1002        maggies      1500\n",
       "1003          books      3050\n",
       "1004           fish      1300\n",
       "1005        maggies      2000\n",
       "1006           meat      5000"
      ]
     },
     "execution_count": 262,
     "metadata": {},
     "output_type": "execute_result"
    }
   ],
   "source": [
    "# INDEXING AND SLICING\n",
    "# using .loc and .iloc mothods\n",
    "# loc slices based on labels\n",
    "sales_df_2\n",
    "# label_sliced = sales_df_2.loc[0:2, 'products':'expenses']\n",
    "# label_sliced\n",
    "\n",
    "# .iloc slices based on index positions\n",
    "iloc_sliced = sales_df_2.iloc[0:2, 1:3]\n",
    "iloc_sliced\n",
    "\n",
    "# slicing by index\n",
    "# set the index\n",
    "# sales_df_2.set_index('customerID', inplace=True)\n",
    "sales_df_2"
   ]
  },
  {
   "cell_type": "code",
   "execution_count": null,
   "id": "b16cafb3",
   "metadata": {},
   "outputs": [],
   "source": []
  }
 ],
 "metadata": {
  "kernelspec": {
   "display_name": "base",
   "language": "python",
   "name": "python3"
  },
  "language_info": {
   "codemirror_mode": {
    "name": "ipython",
    "version": 3
   },
   "file_extension": ".py",
   "mimetype": "text/x-python",
   "name": "python",
   "nbconvert_exporter": "python",
   "pygments_lexer": "ipython3",
   "version": "3.12.7"
  }
 },
 "nbformat": 4,
 "nbformat_minor": 5
}
