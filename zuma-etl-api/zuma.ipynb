{
 "cells": [
  {
   "cell_type": "markdown",
   "id": "9ce01a44",
   "metadata": {},
   "source": [
    "Scope: \n",
    "Zuma Ltd is a real estate company, and would like to use advanced analytics to improve their realtime property listing platform\n",
    "\n",
    "To do:\n",
    "Get data from rapid API\n",
    "Implement rate limit, data consistency and authentication\n",
    "\n",
    "Clean data, handle missing values and transform into a structured format\n",
    "Address data quality to improve reliability\n",
    "\n",
    "Load data into a CSV or database suitable for Zuma realtor's system\n",
    "Ensure it's robust and scalable for future use\n"
   ]
  },
  {
   "cell_type": "code",
   "execution_count": 2,
   "id": "edf682de",
   "metadata": {},
   "outputs": [
    {
     "name": "stdout",
     "output_type": "stream",
     "text": [
      "[{'property_id': '3621748109', 'href': 'https://www.realtor.com/realestateandhomes-detail/316-Manchester-Rd_Camp-Hill_PA_17011_M36217-48109', 'description': {'beds': 4, 'baths_full': 2, 'baths': 2, 'baths_half': None, 'baths_consolidated': '2', 'sqft': 1279, 'lot_sqft': 6098, '__typename': 'SearchHomeDescription'}, 'location': {'address': {'line': '316 Manchester Rd', 'city': 'Camp Hill', 'state_code': 'PA', 'postal_code': '17011', '__typename': 'SearchHomeAddress'}, '__typename': 'SearchHomeLocation'}, 'current_estimates': [{'estimate': 259000, 'date': '2025-07-14', 'isbest_homevalue': True, '__typename': 'LatestEstimate'}, {'estimate': 264236, 'date': '2025-08-06', 'isbest_homevalue': False, '__typename': 'LatestEstimate'}, {'estimate': 254800, 'date': '2025-08-11', 'isbest_homevalue': False, '__typename': 'LatestEstimate'}], 'list_price': None, 'permalink': '316-Manchester-Rd_Camp-Hill_PA_17011_M36217-48109', 'status': 'sold', 'listing_id': None, '__typename': 'SearchHome'}, {'property_id': '3622269832', 'href': 'https://www.realtor.com/realestateandhomes-detail/318-Manchester-Rd_Camp-Hill_PA_17011_M36222-69832', 'description': {'beds': 3, 'baths_full': 2, 'baths': 2, 'baths_half': None, 'baths_consolidated': '2', 'sqft': 1033, 'lot_sqft': 6098, '__typename': 'SearchHomeDescription'}, 'location': {'address': {'line': '318 Manchester Rd', 'city': 'Camp Hill', 'state_code': 'PA', 'postal_code': '17011', '__typename': 'SearchHomeAddress'}, '__typename': 'SearchHomeLocation'}, 'current_estimates': [{'estimate': 264074, 'date': '2025-08-06', 'isbest_homevalue': True, '__typename': 'LatestEstimate'}, {'estimate': 266100, 'date': '2025-08-11', 'isbest_homevalue': False, '__typename': 'LatestEstimate'}, {'estimate': 215000, 'date': '2025-07-14', 'isbest_homevalue': False, '__typename': 'LatestEstimate'}], 'list_price': 149900, 'permalink': '318-Manchester-Rd_Camp-Hill_PA_17011_M36222-69832', 'status': 'sold', 'listing_id': '609608289', '__typename': 'SearchHome'}, {'property_id': '3674255822', 'href': 'https://www.realtor.com/realestateandhomes-detail/1301-Kingsley-Rd_Camp-Hill_PA_17011_M36742-55822', 'description': {'beds': 3, 'baths_full': 2, 'baths': 2, 'baths_half': None, 'baths_consolidated': '2', 'sqft': 1033, 'lot_sqft': 6534, '__typename': 'SearchHomeDescription'}, 'location': {'address': {'line': '1301 Kingsley Rd', 'city': 'Camp Hill', 'state_code': 'PA', 'postal_code': '17011', '__typename': 'SearchHomeAddress'}, '__typename': 'SearchHomeLocation'}, 'current_estimates': [{'estimate': 250000, 'date': '2025-07-14', 'isbest_homevalue': True, '__typename': 'LatestEstimate'}, {'estimate': 288898, 'date': '2025-08-06', 'isbest_homevalue': False, '__typename': 'LatestEstimate'}, {'estimate': 247000, 'date': '2025-08-11', 'isbest_homevalue': False, '__typename': 'LatestEstimate'}], 'list_price': 225000, 'permalink': '1301-Kingsley-Rd_Camp-Hill_PA_17011_M36742-55822', 'status': 'sold', 'listing_id': '2948665062', '__typename': 'SearchHome'}, {'property_id': '3620406535', 'href': 'https://www.realtor.com/realestateandhomes-detail/312-Manchester-Rd_Camp-Hill_PA_17011_M36204-06535', 'description': {'beds': 4, 'baths_full': 2, 'baths': 2, 'baths_half': None, 'baths_consolidated': '2', 'sqft': 2066, 'lot_sqft': 6098, '__typename': 'SearchHomeDescription'}, 'location': {'address': {'line': '312 Manchester Rd', 'city': 'Camp Hill', 'state_code': 'PA', 'postal_code': '17011', '__typename': 'SearchHomeAddress'}, '__typename': 'SearchHomeLocation'}, 'current_estimates': [{'estimate': 325842, 'date': '2025-08-06', 'isbest_homevalue': True, '__typename': 'LatestEstimate'}, {'estimate': 323300, 'date': '2025-08-11', 'isbest_homevalue': False, '__typename': 'LatestEstimate'}, {'estimate': 365000, 'date': '2025-07-14', 'isbest_homevalue': False, '__typename': 'LatestEstimate'}], 'list_price': 229900, 'permalink': '312-Manchester-Rd_Camp-Hill_PA_17011_M36204-06535', 'status': 'sold', 'listing_id': '617538061', '__typename': 'SearchHome'}, {'property_id': '3604978435', 'href': 'https://www.realtor.com/realestateandhomes-detail/1303-Kingsley-Rd_Camp-Hill_PA_17011_M36049-78435', 'description': {'beds': 3, 'baths_full': 2, 'baths': 2, 'baths_half': None, 'baths_consolidated': '2', 'sqft': 997, 'lot_sqft': 5663, '__typename': 'SearchHomeDescription'}, 'location': {'address': {'line': '1303 Kingsley Rd', 'city': 'Camp Hill', 'state_code': 'PA', 'postal_code': '17011', '__typename': 'SearchHomeAddress'}, '__typename': 'SearchHomeLocation'}, 'current_estimates': [{'estimate': 241000, 'date': '2025-07-14', 'isbest_homevalue': True, '__typename': 'LatestEstimate'}, {'estimate': 241936, 'date': '2025-08-06', 'isbest_homevalue': False, '__typename': 'LatestEstimate'}, {'estimate': 229700, 'date': '2025-08-11', 'isbest_homevalue': False, '__typename': 'LatestEstimate'}], 'list_price': 199500, 'permalink': '1303-Kingsley-Rd_Camp-Hill_PA_17011_M36049-78435', 'status': 'sold', 'listing_id': '2941195461', '__typename': 'SearchHome'}, {'property_id': '3689199465', 'href': 'https://www.realtor.com/realestateandhomes-detail/323-Manchester-Rd_Camp-Hill_PA_17011_M36891-99465', 'description': {'beds': 3, 'baths_full': 1, 'baths': 2, 'baths_half': 1, 'baths_consolidated': '1.5', 'sqft': 1550, 'lot_sqft': 6098, '__typename': 'SearchHomeDescription'}, 'location': {'address': {'line': '323 Manchester Rd', 'city': 'Camp Hill', 'state_code': 'PA', 'postal_code': '17011', '__typename': 'SearchHomeAddress'}, '__typename': 'SearchHomeLocation'}, 'current_estimates': [{'estimate': 246000, 'date': '2025-07-14', 'isbest_homevalue': True, '__typename': 'LatestEstimate'}, {'estimate': 254200, 'date': '2025-08-11', 'isbest_homevalue': False, '__typename': 'LatestEstimate'}, {'estimate': 232234, 'date': '2025-08-06', 'isbest_homevalue': False, '__typename': 'LatestEstimate'}], 'list_price': None, 'permalink': '323-Manchester-Rd_Camp-Hill_PA_17011_M36891-99465', 'status': 'sold', 'listing_id': None, '__typename': 'SearchHome'}, {'property_id': '3693335985', 'href': 'https://www.realtor.com/realestateandhomes-detail/319-Manchester-Rd_Camp-Hill_PA_17011_M36933-35985', 'description': {'beds': 3, 'baths_full': 1, 'baths': 1, 'baths_half': None, 'baths_consolidated': '1', 'sqft': 1590, 'lot_sqft': 6098, '__typename': 'SearchHomeDescription'}, 'location': {'address': {'line': '319 Manchester Rd', 'city': 'Camp Hill', 'state_code': 'PA', 'postal_code': '17011', '__typename': 'SearchHomeAddress'}, '__typename': 'SearchHomeLocation'}, 'current_estimates': [{'estimate': 256100, 'date': '2025-08-11', 'isbest_homevalue': True, '__typename': 'LatestEstimate'}, {'estimate': 268235, 'date': '2025-08-06', 'isbest_homevalue': False, '__typename': 'LatestEstimate'}, {'estimate': 246000, 'date': '2025-07-14', 'isbest_homevalue': False, '__typename': 'LatestEstimate'}], 'list_price': None, 'permalink': '319-Manchester-Rd_Camp-Hill_PA_17011_M36933-35985', 'status': 'sold', 'listing_id': None, '__typename': 'SearchHome'}, {'property_id': '3647387077', 'href': 'https://www.realtor.com/realestateandhomes-detail/322-Manchester-Rd_Camp-Hill_PA_17011_M36473-87077', 'description': {'beds': 3, 'baths_full': 1, 'baths': 1, 'baths_half': None, 'baths_consolidated': '1', 'sqft': 1033, 'lot_sqft': 9583, '__typename': 'SearchHomeDescription'}, 'location': {'address': {'line': '322 Manchester Rd', 'city': 'Camp Hill', 'state_code': 'PA', 'postal_code': '17011', '__typename': 'SearchHomeAddress'}, '__typename': 'SearchHomeLocation'}, 'current_estimates': [{'estimate': 218000, 'date': '2025-07-14', 'isbest_homevalue': True, '__typename': 'LatestEstimate'}, {'estimate': 213544, 'date': '2025-08-06', 'isbest_homevalue': False, '__typename': 'LatestEstimate'}, {'estimate': 220300, 'date': '2025-08-11', 'isbest_homevalue': False, '__typename': 'LatestEstimate'}], 'list_price': None, 'permalink': '322-Manchester-Rd_Camp-Hill_PA_17011_M36473-87077', 'status': 'sold', 'listing_id': None, '__typename': 'SearchHome'}, {'property_id': '3697211643', 'href': 'https://www.realtor.com/realestateandhomes-detail/317-Manchester-Rd_Camp-Hill_PA_17011_M36972-11643', 'description': {'beds': 3, 'baths_full': 1, 'baths': 1, 'baths_half': None, 'baths_consolidated': '1', 'sqft': 1403, 'lot_sqft': 6098, '__typename': 'SearchHomeDescription'}, 'location': {'address': {'line': '317 Manchester Rd', 'city': 'Camp Hill', 'state_code': 'PA', 'postal_code': '17011', '__typename': 'SearchHomeAddress'}, '__typename': 'SearchHomeLocation'}, 'current_estimates': [{'estimate': 278500, 'date': '2025-08-11', 'isbest_homevalue': True, '__typename': 'LatestEstimate'}, {'estimate': 293000, 'date': '2025-07-14', 'isbest_homevalue': False, '__typename': 'LatestEstimate'}, {'estimate': 276667, 'date': '2025-08-06', 'isbest_homevalue': False, '__typename': 'LatestEstimate'}], 'list_price': 149900, 'permalink': '317-Manchester-Rd_Camp-Hill_PA_17011_M36972-11643', 'status': 'sold', 'listing_id': '2590626043', '__typename': 'SearchHome'}, {'property_id': '3678876799', 'href': 'https://www.realtor.com/realestateandhomes-detail/1400-Warwick-Rd_Camp-Hill_PA_17011_M36788-76799', 'description': {'beds': 3, 'baths_full': 2, 'baths': 2, 'baths_half': None, 'baths_consolidated': '2', 'sqft': 2420, 'lot_sqft': 10454, '__typename': 'SearchHomeDescription'}, 'location': {'address': {'line': '1400 Warwick Rd', 'city': 'Camp Hill', 'state_code': 'PA', 'postal_code': '17011', '__typename': 'SearchHomeAddress'}, '__typename': 'SearchHomeLocation'}, 'current_estimates': [{'estimate': 289400, 'date': '2025-08-11', 'isbest_homevalue': True, '__typename': 'LatestEstimate'}, {'estimate': 323439, 'date': '2025-08-06', 'isbest_homevalue': False, '__typename': 'LatestEstimate'}, {'estimate': 283000, 'date': '2025-07-14', 'isbest_homevalue': False, '__typename': 'LatestEstimate'}], 'list_price': 224400, 'permalink': '1400-Warwick-Rd_Camp-Hill_PA_17011_M36788-76799', 'status': 'sold', 'listing_id': '2283586410', '__typename': 'SearchHome'}, {'property_id': '3620332003', 'href': 'https://www.realtor.com/realestateandhomes-detail/1307-Kingsley-Rd_Camp-Hill_PA_17011_M36203-32003', 'description': {'beds': 3, 'baths_full': 1, 'baths': 2, 'baths_half': 1, 'baths_consolidated': '1.5', 'sqft': 1452, 'lot_sqft': 5663, '__typename': 'SearchHomeDescription'}, 'location': {'address': {'line': '1307 Kingsley Rd', 'city': 'Camp Hill', 'state_code': 'PA', 'postal_code': '17011', '__typename': 'SearchHomeAddress'}, '__typename': 'SearchHomeLocation'}, 'current_estimates': [{'estimate': 259300, 'date': '2025-08-11', 'isbest_homevalue': True, '__typename': 'LatestEstimate'}, {'estimate': 259700, 'date': '2025-08-06', 'isbest_homevalue': False, '__typename': 'LatestEstimate'}, {'estimate': 231000, 'date': '2025-07-14', 'isbest_homevalue': False, '__typename': 'LatestEstimate'}], 'list_price': 229900, 'permalink': '1307-Kingsley-Rd_Camp-Hill_PA_17011_M36203-32003', 'status': 'sold', 'listing_id': '2955214261', '__typename': 'SearchHome'}, {'property_id': '3712080754', 'href': 'https://www.realtor.com/realestateandhomes-detail/1296-Kingsley-Rd_Camp-Hill_PA_17011_M37120-80754', 'description': {'beds': 2, 'baths_full': 1, 'baths': 1, 'baths_half': None, 'baths_consolidated': '1', 'sqft': 808, 'lot_sqft': 6098, '__typename': 'SearchHomeDescription'}, 'location': {'address': {'line': '1296 Kingsley Rd', 'city': 'Camp Hill', 'state_code': 'PA', 'postal_code': '17011', '__typename': 'SearchHomeAddress'}, '__typename': 'SearchHomeLocation'}, 'current_estimates': [{'estimate': 210000, 'date': '2025-07-14', 'isbest_homevalue': True, '__typename': 'LatestEstimate'}, {'estimate': 187900, 'date': '2025-08-11', 'isbest_homevalue': False, '__typename': 'LatestEstimate'}, {'estimate': 216907, 'date': '2025-08-06', 'isbest_homevalue': False, '__typename': 'LatestEstimate'}], 'list_price': None, 'permalink': '1296-Kingsley-Rd_Camp-Hill_PA_17011_M37120-80754', 'status': 'sold', 'listing_id': None, '__typename': 'SearchHome'}, {'property_id': '3694603027', 'href': 'https://www.realtor.com/realestateandhomes-detail/1300-Kingsley-Rd_Camp-Hill_PA_17011_M36946-03027', 'description': {'beds': 3, 'baths_full': 1, 'baths': 1, 'baths_half': None, 'baths_consolidated': '1', 'sqft': 1508, 'lot_sqft': 6098, '__typename': 'SearchHomeDescription'}, 'location': {'address': {'line': '1300 Kingsley Rd', 'city': 'Camp Hill', 'state_code': 'PA', 'postal_code': '17011', '__typename': 'SearchHomeAddress'}, '__typename': 'SearchHomeLocation'}, 'current_estimates': [{'estimate': 233700, 'date': '2025-08-11', 'isbest_homevalue': True, '__typename': 'LatestEstimate'}, {'estimate': 232000, 'date': '2025-07-14', 'isbest_homevalue': False, '__typename': 'LatestEstimate'}, {'estimate': 260995, 'date': '2025-08-06', 'isbest_homevalue': False, '__typename': 'LatestEstimate'}], 'list_price': 142900, 'permalink': '1300-Kingsley-Rd_Camp-Hill_PA_17011_M36946-03027', 'status': 'sold', 'listing_id': '2769860795', '__typename': 'SearchHome'}, {'property_id': '3665051134', 'href': 'https://www.realtor.com/realestateandhomes-detail/1320-Carlisle-Rd_Camp-Hill_PA_17011_M36650-51134', 'description': {'beds': 3, 'baths_full': 1, 'baths': 2, 'baths_half': 1, 'baths_consolidated': '1.5', 'sqft': 1799, 'lot_sqft': 7405, '__typename': 'SearchHomeDescription'}, 'location': {'address': {'line': '1320 Carlisle Rd', 'city': 'Camp Hill', 'state_code': 'PA', 'postal_code': '17011', '__typename': 'SearchHomeAddress'}, '__typename': 'SearchHomeLocation'}, 'current_estimates': [{'estimate': 267686, 'date': '2025-08-06', 'isbest_homevalue': True, '__typename': 'LatestEstimate'}, {'estimate': 272000, 'date': '2025-07-14', 'isbest_homevalue': False, '__typename': 'LatestEstimate'}, {'estimate': 266400, 'date': '2025-08-11', 'isbest_homevalue': False, '__typename': 'LatestEstimate'}], 'list_price': 244900, 'permalink': '1320-Carlisle-Rd_Camp-Hill_PA_17011_M36650-51134', 'status': 'sold', 'listing_id': '2977858528', '__typename': 'SearchHome'}, {'property_id': '3621077322', 'href': 'https://www.realtor.com/realestateandhomes-detail/1309-Kingsley-Rd_Camp-Hill_PA_17011_M36210-77322', 'description': {'beds': 3, 'baths_full': 1, 'baths': 1, 'baths_half': None, 'baths_consolidated': '1', 'sqft': 1033, 'lot_sqft': None, '__typename': 'SearchHomeDescription'}, 'location': {'address': {'line': '1309 Kingsley Rd', 'city': 'Camp Hill', 'state_code': 'PA', 'postal_code': '17011', '__typename': 'SearchHomeAddress'}, '__typename': 'SearchHomeLocation'}, 'current_estimates': [{'estimate': 234127, 'date': '2025-08-06', 'isbest_homevalue': True, '__typename': 'LatestEstimate'}, {'estimate': 234700, 'date': '2025-08-11', 'isbest_homevalue': False, '__typename': 'LatestEstimate'}, {'estimate': 230000, 'date': '2025-07-14', 'isbest_homevalue': False, '__typename': 'LatestEstimate'}], 'list_price': 145000, 'permalink': '1309-Kingsley-Rd_Camp-Hill_PA_17011_M36210-77322', 'status': 'sold', 'listing_id': '604406377', '__typename': 'SearchHome'}, {'property_id': '3663001507', 'href': 'https://www.realtor.com/realestateandhomes-detail/1318-Carlisle-Rd_Camp-Hill_PA_17011_M36630-01507', 'description': {'beds': 3, 'baths_full': 1, 'baths': 1, 'baths_half': None, 'baths_consolidated': '1', 'sqft': 1833, 'lot_sqft': 7405, '__typename': 'SearchHomeDescription'}, 'location': {'address': {'line': '1318 Carlisle Rd', 'city': 'Camp Hill', 'state_code': 'PA', 'postal_code': '17011', '__typename': 'SearchHomeAddress'}, '__typename': 'SearchHomeLocation'}, 'current_estimates': [{'estimate': 249100, 'date': '2025-08-11', 'isbest_homevalue': True, '__typename': 'LatestEstimate'}, {'estimate': 233000, 'date': '2025-07-14', 'isbest_homevalue': False, '__typename': 'LatestEstimate'}, {'estimate': 262648, 'date': '2025-08-06', 'isbest_homevalue': False, '__typename': 'LatestEstimate'}], 'list_price': 209950, 'permalink': '1318-Carlisle-Rd_Camp-Hill_PA_17011_M36630-01507', 'status': 'sold', 'listing_id': '2968084112', '__typename': 'SearchHome'}, {'property_id': '3675671928', 'href': 'https://www.realtor.com/realestateandhomes-detail/1402-Warwick-Rd_Camp-Hill_PA_17011_M36756-71928', 'description': {'beds': 3, 'baths_full': 1, 'baths': 1, 'baths_half': None, 'baths_consolidated': '1', 'sqft': 1033, 'lot_sqft': 11326, '__typename': 'SearchHomeDescription'}, 'location': {'address': {'line': '1402 Warwick Rd', 'city': 'Camp Hill', 'state_code': 'PA', 'postal_code': '17011', '__typename': 'SearchHomeAddress'}, '__typename': 'SearchHomeLocation'}, 'current_estimates': [{'estimate': 261600, 'date': '2025-08-11', 'isbest_homevalue': True, '__typename': 'LatestEstimate'}, {'estimate': 272174, 'date': '2025-08-06', 'isbest_homevalue': False, '__typename': 'LatestEstimate'}, {'estimate': 256000, 'date': '2025-07-14', 'isbest_homevalue': False, '__typename': 'LatestEstimate'}], 'list_price': None, 'permalink': '1402-Warwick-Rd_Camp-Hill_PA_17011_M36756-71928', 'status': 'sold', 'listing_id': None, '__typename': 'SearchHome'}, {'property_id': '3699596663', 'href': 'https://www.realtor.com/realestateandhomes-detail/313-Manchester-Rd_Camp-Hill_PA_17011_M36995-96663', 'description': {'beds': 4, 'baths_full': 2, 'baths': 3, 'baths_half': 1, 'baths_consolidated': '2.5', 'sqft': 1791, 'lot_sqft': 6098, '__typename': 'SearchHomeDescription'}, 'location': {'address': {'line': '313 Manchester Rd', 'city': 'Camp Hill', 'state_code': 'PA', 'postal_code': '17011', '__typename': 'SearchHomeAddress'}, '__typename': 'SearchHomeLocation'}, 'current_estimates': [{'estimate': 281000, 'date': '2025-07-14', 'isbest_homevalue': True, '__typename': 'LatestEstimate'}, {'estimate': 278100, 'date': '2025-08-11', 'isbest_homevalue': False, '__typename': 'LatestEstimate'}, {'estimate': 289613, 'date': '2025-08-06', 'isbest_homevalue': False, '__typename': 'LatestEstimate'}], 'list_price': None, 'permalink': '313-Manchester-Rd_Camp-Hill_PA_17011_M36995-96663', 'status': 'sold', 'listing_id': None, '__typename': 'SearchHome'}, {'property_id': '3678615937', 'href': 'https://www.realtor.com/realestateandhomes-detail/1302-Kingsley-Rd_Camp-Hill_PA_17011_M36786-15937', 'description': {'beds': 3, 'baths_full': 1, 'baths': 2, 'baths_half': 1, 'baths_consolidated': '1.5', 'sqft': 997, 'lot_sqft': 6098, '__typename': 'SearchHomeDescription'}, 'location': {'address': {'line': '1302 Kingsley Rd', 'city': 'Camp Hill', 'state_code': 'PA', 'postal_code': '17011', '__typename': 'SearchHomeAddress'}, '__typename': 'SearchHomeLocation'}, 'current_estimates': [{'estimate': 270600, 'date': '2025-08-11', 'isbest_homevalue': True, '__typename': 'LatestEstimate'}, {'estimate': 275208, 'date': '2025-08-06', 'isbest_homevalue': False, '__typename': 'LatestEstimate'}, {'estimate': 230000, 'date': '2025-07-14', 'isbest_homevalue': False, '__typename': 'LatestEstimate'}], 'list_price': 240000, 'permalink': '1302-Kingsley-Rd_Camp-Hill_PA_17011_M36786-15937', 'status': 'sold', 'listing_id': '2956198914', '__typename': 'SearchHome'}, {'property_id': '3640120219', 'href': 'https://www.realtor.com/realestateandhomes-detail/1316-Carlisle-Rd_Camp-Hill_PA_17011_M36401-20219', 'description': {'beds': 3, 'baths_full': 1, 'baths': 1, 'baths_half': None, 'baths_consolidated': '1', 'sqft': 1576, 'lot_sqft': 6970, '__typename': 'SearchHomeDescription'}, 'location': {'address': {'line': '1316 Carlisle Rd', 'city': 'Camp Hill', 'state_code': 'PA', 'postal_code': '17011', '__typename': 'SearchHomeAddress'}, '__typename': 'SearchHomeLocation'}, 'current_estimates': [{'estimate': 262000, 'date': '2025-07-14', 'isbest_homevalue': True, '__typename': 'LatestEstimate'}, {'estimate': 258300, 'date': '2025-08-11', 'isbest_homevalue': False, '__typename': 'LatestEstimate'}, {'estimate': 266370, 'date': '2025-08-06', 'isbest_homevalue': False, '__typename': 'LatestEstimate'}], 'list_price': 229000, 'permalink': '1316-Carlisle-Rd_Camp-Hill_PA_17011_M36401-20219', 'status': 'sold', 'listing_id': '2956281102', '__typename': 'SearchHome'}, {'property_id': '3649473970', 'href': 'https://www.realtor.com/realestateandhomes-detail/1300-Warwick-Rd_Camp-Hill_PA_17011_M36494-73970', 'description': {'beds': 3, 'baths_full': 1, 'baths': 1, 'baths_half': None, 'baths_consolidated': '1', 'sqft': 1033, 'lot_sqft': 6534, '__typename': 'SearchHomeDescription'}, 'location': {'address': {'line': '1300 Warwick Rd', 'city': 'Camp Hill', 'state_code': 'PA', 'postal_code': '17011', '__typename': 'SearchHomeAddress'}, '__typename': 'SearchHomeLocation'}, 'current_estimates': [{'estimate': 235680, 'date': '2025-08-06', 'isbest_homevalue': True, '__typename': 'LatestEstimate'}, {'estimate': 251500, 'date': '2025-08-11', 'isbest_homevalue': False, '__typename': 'LatestEstimate'}, {'estimate': 227000, 'date': '2025-07-14', 'isbest_homevalue': False, '__typename': 'LatestEstimate'}], 'list_price': 229000, 'permalink': '1300-Warwick-Rd_Camp-Hill_PA_17011_M36494-73970', 'status': 'sold', 'listing_id': '2982881316', '__typename': 'SearchHome'}, {'property_id': '3596183672', 'href': 'https://www.realtor.com/realestateandhomes-detail/1294-Kingsley-Rd_Camp-Hill_PA_17011_M35961-83672', 'description': {'beds': 2, 'baths_full': 1, 'baths': 1, 'baths_half': None, 'baths_consolidated': '1', 'sqft': 1205, 'lot_sqft': 6534, '__typename': 'SearchHomeDescription'}, 'location': {'address': {'line': '1294 Kingsley Rd', 'city': 'Camp Hill', 'state_code': 'PA', 'postal_code': '17011', '__typename': 'SearchHomeAddress'}, '__typename': 'SearchHomeLocation'}, 'current_estimates': [{'estimate': 259000, 'date': '2025-07-14', 'isbest_homevalue': True, '__typename': 'LatestEstimate'}, {'estimate': 260162, 'date': '2025-08-06', 'isbest_homevalue': False, '__typename': 'LatestEstimate'}, {'estimate': 251000, 'date': '2025-08-11', 'isbest_homevalue': False, '__typename': 'LatestEstimate'}], 'list_price': None, 'permalink': '1294-Kingsley-Rd_Camp-Hill_PA_17011_M35961-83672', 'status': 'sold', 'listing_id': None, '__typename': 'SearchHome'}, {'property_id': '3676789906', 'href': 'https://www.realtor.com/realestateandhomes-detail/1313-Warwick-Rd_Camp-Hill_PA_17011_M36767-89906', 'description': {'beds': 2, 'baths_full': 1, 'baths': 1, 'baths_half': None, 'baths_consolidated': '1', 'sqft': 1033, 'lot_sqft': None, '__typename': 'SearchHomeDescription'}, 'location': {'address': {'line': '1313 Warwick Rd', 'city': 'Camp Hill', 'state_code': 'PA', 'postal_code': '17011', '__typename': 'SearchHomeAddress'}, '__typename': 'SearchHomeLocation'}, 'current_estimates': [{'estimate': 233800, 'date': '2025-08-11', 'isbest_homevalue': True, '__typename': 'LatestEstimate'}, {'estimate': 229000, 'date': '2025-07-14', 'isbest_homevalue': False, '__typename': 'LatestEstimate'}, {'estimate': 250540, 'date': '2025-08-06', 'isbest_homevalue': False, '__typename': 'LatestEstimate'}], 'list_price': 138700, 'permalink': '1313-Warwick-Rd_Camp-Hill_PA_17011_M36767-89906', 'status': 'sold', 'listing_id': '609173469', '__typename': 'SearchHome'}, {'property_id': '3670752823', 'href': 'https://www.realtor.com/realestateandhomes-detail/1309-Warwick-Rd_Camp-Hill_PA_17011_M36707-52823', 'description': {'beds': 3, 'baths_full': 2, 'baths': 2, 'baths_half': None, 'baths_consolidated': '2', 'sqft': 1731, 'lot_sqft': 6534, '__typename': 'SearchHomeDescription'}, 'location': {'address': {'line': '1309 Warwick Rd', 'city': 'Camp Hill', 'state_code': 'PA', 'postal_code': '17011', '__typename': 'SearchHomeAddress'}, '__typename': 'SearchHomeLocation'}, 'current_estimates': [{'estimate': 306699, 'date': '2025-08-06', 'isbest_homevalue': True, '__typename': 'LatestEstimate'}, {'estimate': 317400, 'date': '2025-08-11', 'isbest_homevalue': False, '__typename': 'LatestEstimate'}, {'estimate': 287000, 'date': '2025-07-14', 'isbest_homevalue': False, '__typename': 'LatestEstimate'}], 'list_price': 279900, 'permalink': '1309-Warwick-Rd_Camp-Hill_PA_17011_M36707-52823', 'status': 'sold', 'listing_id': '2971097052', '__typename': 'SearchHome'}, {'property_id': '3627226203', 'href': 'https://www.realtor.com/realestateandhomes-detail/1314-Carlisle-Rd_Camp-Hill_PA_17011_M36272-26203', 'description': {'beds': 3, 'baths_full': 1, 'baths': 1, 'baths_half': None, 'baths_consolidated': '1', 'sqft': 1033, 'lot_sqft': 6534, '__typename': 'SearchHomeDescription'}, 'location': {'address': {'line': '1314 Carlisle Rd', 'city': 'Camp Hill', 'state_code': 'PA', 'postal_code': '17011', '__typename': 'SearchHomeAddress'}, '__typename': 'SearchHomeLocation'}, 'current_estimates': [{'estimate': 250800, 'date': '2025-08-11', 'isbest_homevalue': True, '__typename': 'LatestEstimate'}, {'estimate': 246000, 'date': '2025-07-14', 'isbest_homevalue': False, '__typename': 'LatestEstimate'}, {'estimate': 273675, 'date': '2025-08-06', 'isbest_homevalue': False, '__typename': 'LatestEstimate'}], 'list_price': None, 'permalink': '1314-Carlisle-Rd_Camp-Hill_PA_17011_M36272-26203', 'status': 'sold', 'listing_id': None, '__typename': 'SearchHome'}]\n"
     ]
    }
   ],
   "source": [
    "import requests\n",
    "import json\n",
    "import pandas as pd\n",
    "import psycopg2\n",
    "\n",
    "url = \"https://realtor-search.p.rapidapi.com/properties/nearby-home-values\"\n",
    "\n",
    "querystring = {\"lat\":\"40.23184\",\"lon\":\"-76.895774\"}\n",
    "\n",
    "headers = {\n",
    "\t\"x-rapidapi-key\": \"caf62efaf5msh9aa39a9391d842fp1c1a18jsn75da162ac4aa\",\n",
    "\t\"x-rapidapi-host\": \"realtor-search.p.rapidapi.com\"\n",
    "}\n",
    "\n",
    "response = requests.get(url, headers=headers, params=querystring)\n",
    "\n",
    "\n",
    "data = response.json()['data'][\"home_search\"][\"results\"]\n",
    "print(data)"
   ]
  },
  {
   "cell_type": "code",
   "execution_count": 3,
   "id": "3154501a",
   "metadata": {},
   "outputs": [],
   "source": [
    "## SAVE DATA TO JSON FILE\n",
    "file_name = 'real_estate-2.json'\n",
    "with open(file_name, 'w') as file:\n",
    "    json.dump(data, fp=file, indent=4)\n"
   ]
  },
  {
   "cell_type": "code",
   "execution_count": 4,
   "id": "6de180b2",
   "metadata": {},
   "outputs": [],
   "source": [
    "# LOAD THE DATA INTO A DATAFRAME\n",
    "real_estate_df = pd.read_json('real_estate.json')\n",
    "#real_estate_df.head()"
   ]
  },
  {
   "cell_type": "code",
   "execution_count": 5,
   "id": "f1be7860",
   "metadata": {},
   "outputs": [],
   "source": [
    "# TREAT N/A VALUES\n",
    "real_estate_df.fillna({\n",
    "       'bedrooms' :0.0, \n",
    "       'squareFootage' :0.0, \n",
    "       'yearBuilt' :0.0, \n",
    "       'features' :'unknown', \n",
    "       'county' : 'unknown',\n",
    "       'assessorID' :0.0, \n",
    "       'legalDescription' :'unknown', \n",
    "       'ownerOccupied' : 0, \n",
    "       'bathrooms' :0.0,\n",
    "       'lotSize' : 0.0, \n",
    "       'propertyType' :'unknown', \n",
    "       'taxAssessment' :'unknown', \n",
    "       'propertyTaxes' :'unknown',\n",
    "       'lastSalePrice' : 0.0, \n",
    "       'lastSaleDate' :'01-01-1991', \n",
    "       'owner' :'unknown', \n",
    "       'subdivision' :'unknown', \n",
    "       'zoning' :'unknown',\n",
    "       'addressLine2' :'unknown'\n",
    "}, inplace=True)\n"
   ]
  },
  {
   "cell_type": "code",
   "execution_count": 6,
   "id": "355e7d35",
   "metadata": {},
   "outputs": [],
   "source": [
    "# MODEL THE DATA ACCORDING TO YOUR ERD\n",
    "\n",
    "# EXTRACT SALES DF\n",
    "real_estate_df.columns\n",
    "sales_df = real_estate_df[['lastSalePrice', 'lastSaleDate']].copy().drop_duplicates().reset_index(drop=True)\n",
    "sales_df.index.name = 'sales_id'\n",
    "sales_df = sales_df.reset_index()\n"
   ]
  },
  {
   "cell_type": "code",
   "execution_count": 7,
   "id": "8a4451c0",
   "metadata": {},
   "outputs": [],
   "source": [
    "# EXTRACT FEATURES DF\n",
    "real_estate_df.columns\n",
    "real_estate_df[['features']] = real_estate_df[['features']].astype(str)\n",
    "features_df = real_estate_df[['bedrooms', 'squareFootage', 'features', 'bathrooms', 'lotSize' ]].copy().drop_duplicates().reset_index(drop=True)\n",
    "features_df.index.name = 'features_id'\n",
    "features_df = features_df.reset_index()\n"
   ]
  },
  {
   "cell_type": "code",
   "execution_count": 8,
   "id": "9870180c",
   "metadata": {},
   "outputs": [],
   "source": [
    "# EXTRACT LOCATION DF\n",
    "real_estate_df.columns\n",
    "location_df = real_estate_df[['addressLine1', 'addressLine2', 'city', 'state', 'zipCode', 'county', 'longitude', \\\n",
    "                              'latitude', 'formattedAddress']].copy().drop_duplicates().reset_index(drop=True)\n",
    "location_df.index.name = 'location_id'\n",
    "location_df = location_df.reset_index()"
   ]
  },
  {
   "cell_type": "code",
   "execution_count": 9,
   "id": "21e90a6c",
   "metadata": {},
   "outputs": [],
   "source": [
    "# EXTRACT PROPERTIES FACT TABLE\n",
    "# BECAUSE WE NEED ID'S OF OTHER TABLES AS FORIEGN KEYS, WE'LL NEED TO MERGE THE TABLES FIRST BEFORE EXTRACTING THE COLUMNS\n",
    "\n",
    "properties_df = real_estate_df.merge(sales_df, on=['lastSalePrice', 'lastSaleDate'], how='left').merge(features_df, on=['bedrooms', 'squareFootage', 'features', 'bathrooms', 'lotSize'], how='left').merge(location_df, on=['addressLine1', 'addressLine2', 'city', 'state', 'zipCode', 'county', 'longitude', \\\n",
    "                              'latitude', 'formattedAddress'], how='left')\n",
    "\n",
    "properties_df = properties_df[['id', 'location_id', 'features_id', 'sales_id', 'yearBuilt', 'assessorID', 'legalDescription',\\\n",
    "                               'ownerOccupied', 'propertyType', 'taxAssessment', 'propertyTaxes', 'owner', 'zoning', 'subdivision']]\n",
    "\n",
    "properties_df.reset_index()\n",
    "properties_df.index.name = 'property_id'\n",
    "properties_df = properties_df.reset_index()\n"
   ]
  },
  {
   "cell_type": "code",
   "execution_count": 10,
   "id": "ce8f33b7",
   "metadata": {},
   "outputs": [],
   "source": [
    "# SAVE TO CSV\n",
    "sales_df.to_csv('./cleaned data/zuma_sales.csv', index = False)\n",
    "features_df.to_csv('./cleaned data/zuma_features.csv', index = False)\n",
    "location_df.to_csv('./cleaned data/zuma_location.csv', index = False)\n",
    "properties_df.to_csv('./cleaned data/zuma_property.csv', index = False)"
   ]
  },
  {
   "cell_type": "code",
   "execution_count": 11,
   "id": "085c9ecb",
   "metadata": {},
   "outputs": [],
   "source": [
    "# PUSH DATA TO POSTGRES DATABASE\n",
    "def connect_to_db():\n",
    "    conn = psycopg2.connect(\n",
    "        host='localhost',\n",
    "        database='zumaDB',\n",
    "        user='postgres',\n",
    "        password='sa'\n",
    "    )\n",
    "    return conn\n",
    "con = connect_to_db()"
   ]
  },
  {
   "cell_type": "code",
   "execution_count": 19,
   "id": "75e70e1b",
   "metadata": {},
   "outputs": [],
   "source": [
    "# CREATE TABLES\n",
    "def create_tables():\n",
    "    con = connect_to_db()\n",
    "    cursor = con.cursor()\n",
    "    queries = '''\n",
    "            DROP TABLE IF EXISTS property, sales, features, location;\n",
    "            \n",
    "            CREATE TABLE sales (\n",
    "            sales_id SERIAL PRIMARY KEY,\n",
    "            lastSalePrice NUMERIC(12,2),\n",
    "            lastSaleDate DATE\n",
    "            );\n",
    "\n",
    "            CREATE TABLE features (\n",
    "            features_id SERIAL PRIMARY KEY,\n",
    "            bedrooms NUMERIC(12,2),\n",
    "            squareFootage NUMERIC(12,2),\n",
    "            features TEXT,\n",
    "            bathrooms NUMERIC(12,2),\n",
    "            lotSize NUMERIC(12,2)\n",
    "            );\n",
    "\n",
    "            CREATE TABLE location (\n",
    "                location_id SERIAL PRIMARY KEY,\n",
    "                addressLine1 VARCHAR(255) NULL,\n",
    "                addressLine2 VARCHAR(255),\n",
    "                city VARCHAR(100),\n",
    "                state VARCHAR(100),\n",
    "                zipCode VARCHAR(20),\n",
    "                county VARCHAR(100),\n",
    "                longitude NUMERIC(9,6),\n",
    "                latitude NUMERIC(9,6),\n",
    "                formattedAddress TEXT\n",
    "            );\n",
    "\n",
    "            CREATE TABLE property (\n",
    "                property_id SERIAL PRIMARY KEY,\n",
    "                id TEXT,\n",
    "                location_id INT NULL,\n",
    "                features_id INT NULL,\n",
    "                sales_id INT NULL,\n",
    "                yearBuilt TEXT,\n",
    "                assessorID VARCHAR(100),\n",
    "                legalDescription TEXT,\n",
    "                ownerOccupied TEXT,\n",
    "                propertyType VARCHAR(100),\n",
    "                taxAssessment TEXT,\n",
    "                propertyTaxes TEXT,\n",
    "                owner TEXT,\n",
    "                zoning VARCHAR(100),\n",
    "                subdivision VARCHAR(255),\n",
    "                FOREIGN KEY (location_id) REFERENCES location(location_id),\n",
    "                FOREIGN KEY (features_id) REFERENCES features(features_id),\n",
    "                FOREIGN KEY (sales_id) REFERENCES sales(sales_id)\n",
    "            );\n",
    "        '''\n",
    "    cursor.execute(queries)\n",
    "    con.commit()\n",
    "    cursor.close()\n",
    "    con.close()\n",
    "\n",
    "create_tables()"
   ]
  },
  {
   "cell_type": "code",
   "execution_count": 20,
   "id": "06f223ca",
   "metadata": {},
   "outputs": [],
   "source": [
    "## LOAD DATA TO DATABASE\n",
    "import csv\n",
    "\n",
    "def clear_db_data():\n",
    "    con = connect_to_db()\n",
    "    cursor = con.cursor()\n",
    "    cursor.execute('TRUNCATE  property, sales, features, location;')\n",
    "    con.commit()\n",
    "    cursor.close()\n",
    "    con.close()\n",
    "    print('db clearing successful')\n",
    "\n",
    "def load_data_from_csv(file_path):\n",
    "    con = connect_to_db()\n",
    "    cursor = con.cursor()\n",
    "\n",
    "    with open(file_path, 'r') as file:\n",
    "        reader = csv.reader(file)\n",
    "        \n",
    "        # DYNAMIC INSERT\n",
    "        table_name = file.name.split('/')[-1].split('.')[0].split('_')[-1]\n",
    "        dt_columns = pd.read_csv(file_path).columns.tolist()\n",
    "        placeholders = ', '.join(['%s'] * len(dt_columns))\n",
    "        column_names = ', '.join(dt_columns)        \n",
    "        next(reader)\n",
    "        for row in reader:\n",
    "            cursor.execute(f'''\n",
    "                INSERT INTO {table_name} ({column_names}) VALUES ({placeholders});\n",
    "                ''', row\n",
    "            )\n",
    "\n",
    "    con.commit()\n",
    "    cursor.close()\n",
    "    con.close()\n",
    "\n"
   ]
  },
  {
   "cell_type": "code",
   "execution_count": 21,
   "id": "b137e40c",
   "metadata": {},
   "outputs": [
    {
     "name": "stdout",
     "output_type": "stream",
     "text": [
      "db clearing successful\n",
      "zuma_sales.csv successfully loaded\n",
      "zuma_features.csv successfully loaded\n",
      "zuma_location.csv successfully loaded\n",
      "zuma_property.csv successfully loaded\n"
     ]
    }
   ],
   "source": [
    "clear_db_data();\n",
    "\n",
    "data_files = ['zuma_sales.csv', 'zuma_features.csv', 'zuma_location.csv', 'zuma_property.csv']\n",
    "\n",
    "for d in data_files:\n",
    "    file_path = './cleaned data/'+d\n",
    "    load_data_from_csv(file_path)\n",
    "    print(f'{d} successfully loaded')"
   ]
  },
  {
   "cell_type": "code",
   "execution_count": 38,
   "id": "0265f299",
   "metadata": {},
   "outputs": [
    {
     "name": "stdout",
     "output_type": "stream",
     "text": [
      "(0, '511 John St', 'unknown', 'Bryan', 'OH', '43506', 'Williams', Decimal('-84.570163'), Decimal('41.469595'), '511 John St, Bryan, OH 43506')\n"
     ]
    }
   ],
   "source": [
    "def get_data(table_name):\n",
    "    con = connect_to_db()\n",
    "    cursor = con.cursor()\n",
    "    cursor.execute(f'SELECT * FROM {table_name}')\n",
    "    data = cursor.fetchone()\n",
    "    print(data)\n",
    "    cursor.close()\n",
    "    con.close()\n",
    "\n",
    "get_data('location')"
   ]
  }
 ],
 "metadata": {
  "kernelspec": {
   "display_name": "base",
   "language": "python",
   "name": "python3"
  },
  "language_info": {
   "codemirror_mode": {
    "name": "ipython",
    "version": 3
   },
   "file_extension": ".py",
   "mimetype": "text/x-python",
   "name": "python",
   "nbconvert_exporter": "python",
   "pygments_lexer": "ipython3",
   "version": "3.12.7"
  }
 },
 "nbformat": 4,
 "nbformat_minor": 5
}
