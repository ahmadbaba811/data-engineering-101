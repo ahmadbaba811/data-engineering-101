{
 "cells": [
  {
   "cell_type": "code",
   "execution_count": 15,
   "id": "9c65900b",
   "metadata": {},
   "outputs": [],
   "source": [
    "import numpy as np\n",
    "import pandas as pd\n",
    "from datetime import datetime as dt\n",
    "\n",
    "# data extraction layer\n",
    "yanki_df = pd.read_csv('./raw data/yanki_ecommerce.csv')\n",
    "# yanki_df.head()"
   ]
  },
  {
   "cell_type": "code",
   "execution_count": 158,
   "id": "0c36a58c",
   "metadata": {},
   "outputs": [],
   "source": [
    "## DATA CLEANING AND TRANSFORMATION\n",
    "#yanki_df.info()\n",
    "\n",
    "# drop missing values\n",
    "yanki_df = yanki_df.dropna(subset=['Order_ID', 'Customer_ID', 'State']);\n",
    "#yanki_df.info()\n"
   ]
  },
  {
   "cell_type": "code",
   "execution_count": 44,
   "id": "085681f9",
   "metadata": {},
   "outputs": [],
   "source": [
    " # convert order date from string to datetime\n",
    "\n",
    "yanki_df['Order_Date'] = pd.to_datetime(yanki_df['Order_Date'], format=\"%d/%m/%Y %H:%M\")\n",
    "#yanki_df.info() "
   ]
  },
  {
   "cell_type": "code",
   "execution_count": 45,
   "id": "be0b3fa7",
   "metadata": {},
   "outputs": [],
   "source": [
    "## NORMALISING THE DATA - As done in the ERD \n",
    "customer_df = yanki_df[['Customer_ID', 'Customer_Name', 'Email', 'Phone_Number']].copy().drop_duplicates().reset_index(drop=True)\n",
    "#customer_df.head()"
   ]
  },
  {
   "cell_type": "code",
   "execution_count": 46,
   "id": "a8cab536",
   "metadata": {},
   "outputs": [],
   "source": [
    "## PRODUCTS TABLE\n",
    "products_df = yanki_df[['Product_ID', 'Product_Name', 'Brand', 'Category', 'Price']].copy().drop_duplicates().reset_index(drop=True)\n",
    "#products_df.head()"
   ]
  },
  {
   "cell_type": "code",
   "execution_count": 47,
   "id": "7b66edf8",
   "metadata": {},
   "outputs": [],
   "source": [
    "## SHIPPING ADDRESS TABLE\n",
    "shipping_df = yanki_df[['Customer_ID', 'Shipping_Address', 'City', 'State', 'Country', 'Postal_Code']].copy().drop_duplicates().reset_index(drop=True)\n",
    "\n",
    "# Add shipping_ID column, use the index column\n",
    "shipping_df.index.name = 'Shipping_ID'\n",
    "shipping_df = shipping_df.reset_index()\n",
    "#shipping_df.head()"
   ]
  },
  {
   "cell_type": "code",
   "execution_count": 48,
   "id": "09c266cc",
   "metadata": {},
   "outputs": [],
   "source": [
    "## ORDER TABLE\n",
    "orders_df = yanki_df[['Order_ID', 'Customer_ID', 'Product_ID', 'Quantity', 'Total_Price', 'Order_Date']].copy().drop_duplicates().reset_index(drop=True)\n",
    "#orders_df"
   ]
  },
  {
   "cell_type": "code",
   "execution_count": 49,
   "id": "adcf35bf",
   "metadata": {},
   "outputs": [],
   "source": [
    "## PAYMENT METHODS TABLE\n",
    "payments_df = yanki_df[['Order_ID', 'Payment_Method', 'Transaction_Status']].copy().drop_duplicates().reset_index(drop=True)\n",
    "payments_df.index.name = 'Payment_ID'\n",
    "payments_df = payments_df.reset_index()\n",
    "\n",
    "#payments_df.head()"
   ]
  },
  {
   "cell_type": "code",
   "execution_count": 90,
   "id": "b8ba50ae",
   "metadata": {},
   "outputs": [],
   "source": [
    "## SAVING FILES\n",
    "customer_df.to_csv('./cleaned data/customers.csv', index = False);\n",
    "products_df.to_csv('./cleaned data/products.csv', index = False);\n",
    "shipping_df.to_csv('./cleaned data/shipping_address.csv', index = False);\n",
    "orders_df.to_csv('./cleaned data/orders.csv', index = False);\n",
    "payments_df.to_csv('./cleaned data/payments.csv', index = False);"
   ]
  },
  {
   "cell_type": "code",
   "execution_count": 37,
   "id": "82a35e5b",
   "metadata": {},
   "outputs": [
    {
     "name": "stdout",
     "output_type": "stream",
     "text": [
      "Collecting psycopg2\n",
      "  Downloading psycopg2-2.9.10-cp312-cp312-win_amd64.whl.metadata (5.0 kB)\n",
      "Downloading psycopg2-2.9.10-cp312-cp312-win_amd64.whl (1.2 MB)\n",
      "   ---------------------------------------- 0.0/1.2 MB ? eta -:--:--\n",
      "   --------------------------- ------------ 0.8/1.2 MB 4.2 MB/s eta 0:00:01\n",
      "   ---------------------------------------- 1.2/1.2 MB 4.1 MB/s eta 0:00:00\n",
      "Installing collected packages: psycopg2\n",
      "Successfully installed psycopg2-2.9.10\n"
     ]
    }
   ],
   "source": [
    "# LOADING THE DATA INTO POSTGRESL\n",
    "!pip install psycopg2"
   ]
  },
  {
   "cell_type": "code",
   "execution_count": 38,
   "id": "02c4de70",
   "metadata": {},
   "outputs": [],
   "source": [
    "import psycopg2"
   ]
  },
  {
   "cell_type": "code",
   "execution_count": null,
   "id": "151694e3",
   "metadata": {},
   "outputs": [
    {
     "data": {
      "text/plain": [
       "<connection object at 0x0000026968D87010; dsn: 'user=postgres password=xxx dbname=Yanki_Ecommerce_DB host=localhost', closed: 0>"
      ]
     },
     "execution_count": 42,
     "metadata": {},
     "output_type": "execute_result"
    }
   ],
   "source": [
    "# CREATE DATABASE CONNECTION\n",
    "def connect_to_db():\n",
    "    connection = psycopg2.connect(\n",
    "        host = 'localhost',\n",
    "        database = 'Yanki_Ecommerce_DB',\n",
    "        user = 'postgres',\n",
    "        password = 'sa'\n",
    "    )\n",
    "    return connection\n",
    "\n",
    "con = connect_to_db()"
   ]
  },
  {
   "cell_type": "code",
   "execution_count": null,
   "id": "b364efd8",
   "metadata": {},
   "outputs": [],
   "source": [
    "# CREATE SQL TABLE\n",
    "\n",
    "def create_tables():\n",
    "    con = connect_to_db()\n",
    "    cursor = con.cursor()\n",
    "    queries = '''\n",
    "                CREATE SCHEMA IF NOT EXISTS yanki;\n",
    "\n",
    "                DROP TABLE IF EXISTS yanki.shipping_address;\n",
    "                DROP TABLE IF EXISTS yanki.payments;\n",
    "                DROP TABLE IF EXISTS yanki.orders;\n",
    "                DROP TABLE IF EXISTS yanki.customers;\n",
    "                DROP TABLE IF EXISTS yanki.products;\n",
    "                \n",
    "\n",
    "\n",
    "                CREATE TABLE yanki.customers(\n",
    "                    Customer_ID UUID primary key,\n",
    "                    Customer_Name varchar(255),\n",
    "                    Email varchar(50),\n",
    "                    Phone_Number TEXT\n",
    "                );\n",
    "\n",
    "                CREATE TABLE yanki.products(\n",
    "                Product_ID UUID primary key,\n",
    "                    Product_Name varchar(255),\n",
    "                    Brand TEXT,\n",
    "                    Category TEXT,\n",
    "                    Price FLOAT\n",
    "                );\n",
    "\n",
    "                CREATE TABLE yanki.shipping_address(\n",
    "                    Shipping_ID SERIAL primary key,\n",
    "                    Customer_ID UUID,\n",
    "                    Shipping_Address TEXT,\n",
    "                    City TEXT,\n",
    "                    State TEXT,\n",
    "                    Country TEXT,\n",
    "                    Postal_Code TEXT,\n",
    "                    FOREIGN KEY (Customer_ID) REFERENCES yanki.customers(Customer_ID)\n",
    "                );\n",
    "    \n",
    "\n",
    "                CREATE TABLE yanki.orders(\n",
    "                    Order_ID UUID primary key,\n",
    "                    Customer_ID UUID,\n",
    "                    Product_ID UUID,\n",
    "                    Quantity INT,\n",
    "                    Total_Price FLOAT,\n",
    "                    Order_Date DATE,\n",
    "                    FOREIGN KEY (Customer_ID) REFERENCES yanki.customers(Customer_ID),\n",
    "                    FOREIGN KEY (Product_ID) REFERENCES yanki.products(Product_ID)\n",
    "                );\n",
    "\n",
    "\n",
    "                CREATE TABLE yanki.payments(\n",
    "                    Payment_ID SERIAL primary key,\n",
    "                    Order_ID UUID,\n",
    "                    Payment_Method TEXT,\n",
    "                    Transaction_Status TEXT,\n",
    "                    FOREIGN KEY (Order_ID) REFERENCES yanki.orders(Order_ID)\n",
    "                );\n",
    "\n",
    "            '''\n",
    "    cursor.execute(queries);\n",
    "    con.commit();\n",
    "    cursor.close();\n",
    "    con.close();"
   ]
  },
  {
   "cell_type": "code",
   "execution_count": null,
   "id": "9ff57bce",
   "metadata": {},
   "outputs": [],
   "source": [
    "create_tables();"
   ]
  },
  {
   "cell_type": "code",
   "execution_count": null,
   "id": "c9abe9a8",
   "metadata": {},
   "outputs": [],
   "source": [
    "## LOAD DATA TO DATABASE\n",
    "import csv\n",
    "\n",
    "def clear_db_data():\n",
    "    con = connect_to_db()\n",
    "    cursor = con.cursor()\n",
    "    cursor.execute('TRUNCATE yanki.products, yanki.shipping_address, yanki.payments, yanki.orders, yanki.customers;')\n",
    "    con.commit()\n",
    "    cursor.close()\n",
    "    con.close()\n",
    "    print('db clearing successful')\n",
    "\n",
    "def load_data_from_csv(file_path):\n",
    "    con = connect_to_db()\n",
    "    cursor = con.cursor()\n",
    "\n",
    "    with open(file_path, 'r') as file:\n",
    "        reader = csv.reader(file)\n",
    "        \n",
    "        # DYNAMIC INSERT\n",
    "        table_name = file.name.split('/')[-1].split('.')[0]\n",
    "        dt_columns = pd.read_csv(file_path).columns.tolist()\n",
    "        placeholders = ', '.join(['%s'] * len(dt_columns))\n",
    "        column_names = ', '.join(dt_columns)\n",
    "\n",
    "        next(reader)\n",
    "        for row in reader:\n",
    "            cursor.execute(f'''\n",
    "                INSERT INTO yanki.{table_name} ({column_names}) VALUES ({placeholders});\n",
    "                ''', row\n",
    "            )\n",
    "\n",
    "        # MANUAL INSERT i.e one after the other\n",
    "        # next(reader)\n",
    "        # for row in reader:\n",
    "        #     cursor.execute('''\n",
    "        #         INSERT INTO yanki.payments (Payment_ID, Order_ID, Payment_Method, Transaction_Status) VALUES (%s, %s, %s, %s);\n",
    "        #         ''', row\n",
    "        #     )\n",
    "\n",
    "    con.commit()\n",
    "    cursor.close()\n",
    "    con.close()\n",
    "\n"
   ]
  },
  {
   "cell_type": "code",
   "execution_count": 159,
   "id": "eedcc822",
   "metadata": {},
   "outputs": [
    {
     "name": "stdout",
     "output_type": "stream",
     "text": [
      "db clearing successful\n",
      "customers.csv successfully loaded\n",
      "shipping_address.csv successfully loaded\n",
      "products.csv successfully loaded\n",
      "orders.csv successfully loaded\n",
      "payments.csv successfully loaded\n"
     ]
    }
   ],
   "source": [
    "clear_db_data();\n",
    "\n",
    "data_files = ['customers.csv', 'shipping_address.csv', 'products.csv', 'orders.csv', 'payments.csv']\n",
    "\n",
    "for d in data_files:\n",
    "    file_path = './cleaned data/'+d\n",
    "    load_data_from_csv(file_path)\n",
    "    print(f'{d} successfully loaded')"
   ]
  },
  {
   "cell_type": "code",
   "execution_count": null,
   "id": "d8efa4f7",
   "metadata": {},
   "outputs": [],
   "source": []
  }
 ],
 "metadata": {
  "kernelspec": {
   "display_name": "base",
   "language": "python",
   "name": "python3"
  },
  "language_info": {
   "codemirror_mode": {
    "name": "ipython",
    "version": 3
   },
   "file_extension": ".py",
   "mimetype": "text/x-python",
   "name": "python",
   "nbconvert_exporter": "python",
   "pygments_lexer": "ipython3",
   "version": "3.12.7"
  }
 },
 "nbformat": 4,
 "nbformat_minor": 5
}
