{
 "cells": [
  {
   "cell_type": "markdown",
   "id": "984acdbf5dd5919a",
   "metadata": {},
   "source": [
    "# Python Fundamentals\n",
    "This notebook contains what you need to know about the **Python Data Types** and how to work with them all together."
   ]
  },
  {
   "cell_type": "markdown",
   "id": "43575009083603de",
   "metadata": {},
   "source": [
    "## Variables\n",
    "\n",
    "* In Python, **variables** are containers for storing data values. They are created using the = operator, where the left side is the variable name, and the right side is the value assigned. \n",
    "* Python allows dynamic typing, meaning you don’t need to declare a variable type before assigning a value. \n",
    "* Variable names should be meaningful, case-sensitive, and follow Python's naming conventions (e.g., snake_case).\n",
    "\n",
    "### Example\n",
    "`x = 5` will assign 5 to variable x"
   ]
  },
  {
   "cell_type": "code",
   "execution_count": 1,
   "id": "e573ade3ad2e1eb7",
   "metadata": {
    "ExecuteTime": {
     "end_time": "2024-12-14T14:18:37.879270Z",
     "start_time": "2024-12-14T14:18:37.856170Z"
    }
   },
   "outputs": [],
   "source": [
    "# Demonstrating how to assign and use variables\n",
    "name = \"James Hunt\"\n",
    "age = 25\n",
    "height = 1.75\n",
    "in_class = True\n",
    "hobbies = [\"Playing Games\", \"Travelling\", \"Duhh!\"]"
   ]
  },
  {
   "cell_type": "markdown",
   "id": "d26e66bb9d607919",
   "metadata": {},
   "source": [
    "## 1. Integers & Floats\n",
    "\n",
    "* Integers are whole numbers (e.g., 1, -3, 42).\n",
    "* While floats are numbers with decimals (e.g., 3.14, -0.01)."
   ]
  },
  {
   "cell_type": "code",
   "execution_count": 1,
   "id": "24047a9d71adf1cf",
   "metadata": {
    "ExecuteTime": {
     "end_time": "2024-12-14T13:06:41.466240Z",
     "start_time": "2024-12-14T13:06:41.439189Z"
    }
   },
   "outputs": [],
   "source": [
    "x = 10 # Int\n",
    "y = 3\n",
    "pi = 3.142 # Float"
   ]
  },
  {
   "cell_type": "markdown",
   "id": "1dd6b44edb8679ec",
   "metadata": {},
   "source": [
    "### Arithmetic & Comparison Operators\n",
    "\n",
    "Arithmetic operations like addition (+), subtraction (-), multiplication (*), division (/), and modulus (%) can be performed on both types. Python also supports integer division (***Sometimes called floor division***) (//) and exponentiation (**)."
   ]
  },
  {
   "cell_type": "code",
   "execution_count": null,
   "id": "7399a79b12eea1ba",
   "metadata": {},
   "outputs": [],
   "source": [
    "# Addition\n",
    "result = x + y\n",
    "\n",
    "# Subtraction\n",
    "difference = x - y\n",
    "\n",
    "# Multiplication\n",
    "product = x * y\n",
    "\n",
    "# Division\n",
    "quotient = x / y\n",
    "\n",
    "# Modulus (Remainder)\n",
    "remainder = x % y\n",
    "\n",
    "# Integer Division\n",
    "int_quotient = x // y\n",
    "\n",
    "# Exponentiation\n",
    "exp = x ** y"
   ]
  },
  {
   "cell_type": "markdown",
   "id": "1edc6c64da4f2e25",
   "metadata": {},
   "source": [
    "Comparison operations (==, !=, <, >, <=, >=) are also used to compare integer and float values, returning Boolean results (True or False)."
   ]
  },
  {
   "cell_type": "code",
   "execution_count": null,
   "id": "8bb7190384768ce0",
   "metadata": {},
   "outputs": [],
   "source": [
    "# Equal to\n",
    "print(x == y)\n",
    "\n",
    "# Not equal to\n",
    "print(x != y)\n",
    "\n",
    "# Greater than\n",
    "print(x > y)\n",
    "\n",
    "# Less than\n",
    "print(x < y)\n",
    "\n",
    "# Greater than or equal to\n",
    "print(x >= y)\n",
    "\n",
    "# Less than or equal to\n",
    "print(x <= y)"
   ]
  },
  {
   "cell_type": "markdown",
   "id": "5f706fd1a808c9d8",
   "metadata": {},
   "source": [
    "## 2. Strings\n",
    "\n",
    "* Strings are sequences of characters enclosed in single (') or double (\") quotes. \n",
    "* They are immutable, meaning their values cannot be changed after creation."
   ]
  },
  {
   "cell_type": "code",
   "execution_count": null,
   "id": "8e1da3b24402f093",
   "metadata": {},
   "outputs": [],
   "source": [
    "greeting = \"Hello, World!\"\n",
    "myname = \"Lionel Messi\"\n",
    "name = 'Cristiano Ronaldo'\n",
    "\n",
    "print(myname)\n",
    "print(greeting)\n",
    "\n",
    "# or\n",
    "\n",
    "print(greeting + \" I am \" + myname) # Concatenation\n",
    "print(greeting, \"I am\", name)"
   ]
  },
  {
   "cell_type": "markdown",
   "id": "69d6e1771185d989",
   "metadata": {},
   "source": [
    "### String Methods\n",
    "\n",
    "Python provides a variety of string methods, such as `.upper()` to convert to uppercase, `.lower()` to convert to lowercase, `.len()` to returns the length of a string., `.replace()` to replace substrings, and `.split()` to split a string into a list."
   ]
  },
  {
   "cell_type": "code",
   "execution_count": null,
   "id": "120421e69125264f",
   "metadata": {},
   "outputs": [],
   "source": [
    "print(greeting.lower()) # Converts to lowercase\n",
    "print(greeting.upper()) # Converts to upper case\n",
    "print(len(greeting)) # Counts the total number of characters\n",
    "print(len(myname))\n",
    "print(greeting.replace(\"World\", \"Everybody\")) # Replaces 'World' with 'Everybody'\n",
    "print(myname.split()) # Split the characters into two individual words using space as separator"
   ]
  },
  {
   "cell_type": "markdown",
   "id": "9eac6a94ad9fffa6",
   "metadata": {},
   "source": [
    "### Print Formatting\n",
    "* Print formatting allows dynamic inclusion of variables into strings. \n",
    "* Methods include f-strings (e.g., `f\"My age is {age}\"`) - *Commonly Used*, .format() (e.g., `\"My age is {}\".format(age)`), and concatenation using +.\n",
    "\n",
    "Print formatting enables better control over how output is displayed. It supports advanced formatting, such as controlling decimal places ({value:.2f}) or alignment ({:<10}). Alternatively, the .format() method and older % (Place-holder method) operator can be used for string formatting, but f-strings are preferred for their simplicity."
   ]
  },
  {
   "cell_type": "code",
   "execution_count": null,
   "id": "cdfe7e67ae17791",
   "metadata": {},
   "outputs": [],
   "source": [
    "house_number = 344\n",
    "street_name = \"Liverpool Lime Street\"\n",
    "distance = 34.7\n",
    "\n",
    "print(f\"You are close to the address {house_number}, {street_name}, at {distance} metres turn right\")\n",
    "\n",
    "\n",
    "print(\"|{:<10}|{:^10}|{:>10}|\".format(\"left\", \"center\", \"right\"))"
   ]
  },
  {
   "cell_type": "markdown",
   "id": "4d25fd241c302ec",
   "metadata": {},
   "source": [
    "## Boolean\n",
    "Booleans in Python represent True or False values. They are often the result of comparison or logical operations. "
   ]
  },
  {
   "cell_type": "code",
   "execution_count": 12,
   "id": "a171ac4ab323b2e3",
   "metadata": {
    "ExecuteTime": {
     "end_time": "2024-12-14T14:14:50.922846Z",
     "start_time": "2024-12-14T14:14:50.907184Z"
    }
   },
   "outputs": [],
   "source": [
    "is_raining = True\n",
    "is_sunny = False"
   ]
  },
  {
   "cell_type": "markdown",
   "id": "e2860a026109114b",
   "metadata": {},
   "source": [
    "### Logical Operators\n",
    "\n",
    "Logical operators include `and`, `or`, and `not`. Booleans are widely used in conditional statements, loops, and control flow. They are also compatible with numerical values in Python, where True is treated as 1 and False as 0."
   ]
  },
  {
   "cell_type": "code",
   "execution_count": null,
   "id": "77abea59093c54de",
   "metadata": {
    "ExecuteTime": {
     "end_time": "2024-12-14T14:14:52.776755Z",
     "start_time": "2024-12-14T14:14:52.761130Z"
    }
   },
   "outputs": [],
   "source": [
    "print(\"\\nLogical Operations:\")\n",
    "print(f\"AND: {is_raining and is_sunny}\")\n",
    "print(f\"OR: {is_raining or is_sunny}\")\n",
    "print(f\"NOT: {not is_raining}\")"
   ]
  },
  {
   "cell_type": "code",
   "execution_count": null,
   "id": "cabb7b82",
   "metadata": {},
   "outputs": [],
   "source": [
    "num1 = 1000\n",
    "num2 = 2000\n",
    "num3 = num2 % num1\n",
    "print(0 == num3)\n",
    "print(not(num2 != num1 * 2))"
   ]
  },
  {
   "cell_type": "markdown",
   "id": "aee57219abd6f121",
   "metadata": {},
   "source": [
    "## List\n",
    "\n",
    "* Lists are ordered, mutable collections of items. \n",
    "* They allow duplicates and can store elements of mixed data types.\n",
    "* They are also enclosed with `[]` brackets"
   ]
  },
  {
   "cell_type": "code",
   "execution_count": 48,
   "id": "f9e7b646dadb3ad0",
   "metadata": {
    "ExecuteTime": {
     "end_time": "2024-12-14T14:31:04.480620Z",
     "start_time": "2024-12-14T14:31:04.466992Z"
    }
   },
   "outputs": [],
   "source": [
    "fruits = [\"apple\", \"banana\", \"cherry\", \"banana\"]\n",
    "super_heroes = [\"Batman\", \"Superman\", \"Iron man\", \"Thor\", \"Flash\", \"2000\"]"
   ]
  },
  {
   "cell_type": "markdown",
   "id": "fde809a981d15da2",
   "metadata": {},
   "source": [
    "### List Methods\n",
    "Common list methods include:\n",
    "* `append()`: Adds an element to the end of the list.\n",
    "* `insert()`: Adds an element at a specific index.\n",
    "* `remove()`: Removes the first occurrence of a specific element.\n",
    "* `pop()`: Removes and returns an element by index.\n",
    "* `sort()`: Sorts the list in ascending order."
   ]
  },
  {
   "cell_type": "code",
   "execution_count": null,
   "id": "f48ef77669dc3580",
   "metadata": {},
   "outputs": [
    {
     "name": "stdout",
     "output_type": "stream",
     "text": [
      "Popped fruit: blueberry\n"
     ]
    }
   ],
   "source": [
    "# List Methods\n",
    "fruits.append(\"date\") # adds date to the end of the list\n",
    "\n",
    "fruits.insert(4, \"mango\") # add blueberry at index 1\n",
    "fruits.append(\"blueberry\") # adds blueberry to the end of the list\n",
    "fruits.extend([\"kiwi\", \"orange\"]) # adds multiple elements to the end of the list\n",
    "\n",
    "removed_fruit = fruits.pop(0) # pop the element by index\n",
    "print(\"Popped fruit:\", removed_fruit)\n",
    "\n",
    "fruits.remove(\"banana\") # removes banana as an element\n",
    "\n",
    "fruits.sort(reverse=True) # Sorts the list alphabetically\n"
   ]
  },
  {
   "cell_type": "code",
   "execution_count": null,
   "id": "fcf99309",
   "metadata": {},
   "outputs": [],
   "source": [
    "print(fruits)"
   ]
  },
  {
   "cell_type": "markdown",
   "id": "146b08c9265a0214",
   "metadata": {},
   "source": [
    "### List Slicing\n",
    "List slicing allows extracting subsets of elements using `[start:stop:step]`. For instance, `my_list[1:4]` retrieves elements from index 1 to 3."
   ]
  },
  {
   "cell_type": "code",
   "execution_count": null,
   "id": "9a92cef1c7d8496c",
   "metadata": {},
   "outputs": [],
   "source": [
    "print(\"First two fruits:\", fruits[:2])\n",
    "print(\"Last two fruits:\", fruits[-2:])"
   ]
  },
  {
   "cell_type": "markdown",
   "id": "8f84a17c9069bf8c",
   "metadata": {},
   "source": [
    "## Dictionary\n",
    "Dictionaries store data as key-value pairs, making them ideal for representing structured data. \n",
    "* Keys are unique and immutable, while values can be mutable or immutable.\n",
    "* They are enclosed with `{}` brackets"
   ]
  },
  {
   "cell_type": "code",
   "execution_count": 52,
   "id": "4456bca98ef873fa",
   "metadata": {
    "ExecuteTime": {
     "end_time": "2024-12-14T14:48:31.388932Z",
     "start_time": "2024-12-14T14:48:31.373309Z"
    }
   },
   "outputs": [],
   "source": [
    "capitals = {\n",
    "    \"Nigeria\": \"Abuja\",\n",
    "    \"United State of America\": \"Washington DC\",\n",
    "    \"Ghana\":\"Accra\",\n",
    "    \"Lebanon\":\"Beirut\",\n",
    "    \"Canada\":\"Ottawa\",\n",
    "    \"United Kingdom\":\"London\"\n",
    "}"
   ]
  },
  {
   "cell_type": "markdown",
   "id": "4ece7b787b24bb1c",
   "metadata": {},
   "source": [
    "### Dictionary Methods"
   ]
  },
  {
   "cell_type": "code",
   "execution_count": null,
   "id": "ecb52425",
   "metadata": {},
   "outputs": [],
   "source": [
    "capitals.keys()  # Returns all the keys in the dictionary\n",
    "capitals.values()  # Returns all the values in the dictionary\n",
    "capitals.items()  # Returns all the key-value pairs in the dictionary"
   ]
  },
  {
   "cell_type": "markdown",
   "id": "5519768ae4872cee",
   "metadata": {},
   "source": [
    "## Tuples\n",
    "\n",
    "Tuples are immutable, ordered collections of items. \n",
    "* They are faster and require less memory than lists due to their immutability. \n",
    "* Tuples are often used for fixed collections of data, such as coordinates or settings. \n",
    "* Once created, their values cannot be changed. \n",
    "* Tuples support indexing, slicing, and operations like concatenation. \n",
    "* They are created using parentheses, e.g., my_tuple = (1, 2, 3)."
   ]
  },
  {
   "cell_type": "markdown",
   "id": "ab57903777190619",
   "metadata": {},
   "source": [
    "## Bringing them all TOGETHER!\n",
    "\n",
    "Python allows seamless integration of various data types within a single program. For example, a dictionary can store values as strings, lists, tuples, or even other dictionaries. This flexibility is critical for real-world applications, such as organizing data for API responses, database entries, or configurations. "
   ]
  },
  {
   "cell_type": "code",
   "execution_count": null,
   "id": "initial_id",
   "metadata": {
    "collapsed": true,
    "jupyter": {
     "outputs_hidden": true
    }
   },
   "outputs": [],
   "source": [
    "data = {\n",
    "    \"name\": \"Alice\",\n",
    "    \"scores\": [85, 90, 88],\n",
    "    \"is_active\": True,\n",
    "    \"location\": (40.7128, -74.0060)\n",
    "}\n"
   ]
  },
  {
   "cell_type": "markdown",
   "id": "1680fb00751cf5f9",
   "metadata": {},
   "source": [
    "## Conditionals\n",
    "\n",
    "Conditionals control the flow of a program based on conditions. The if statement checks a condition, while the else block executes when the condition is false. For multiple conditions, elif can be used. Logical operators (and, or, not) enhance condition testing."
   ]
  },
  {
   "cell_type": "code",
   "execution_count": null,
   "id": "b785bfc579712623",
   "metadata": {},
   "outputs": [],
   "source": [
    "age = True\n",
    "if age >= 18:\n",
    "    print(\"Eligible to vote\")\n",
    "else:\n",
    "    print(\"Not eligible to vote\")\n"
   ]
  }
 ],
 "metadata": {
  "kernelspec": {
   "display_name": ".venv",
   "language": "python",
   "name": "python3"
  },
  "language_info": {
   "codemirror_mode": {
    "name": "ipython",
    "version": 3
   },
   "file_extension": ".py",
   "mimetype": "text/x-python",
   "name": "python",
   "nbconvert_exporter": "python",
   "pygments_lexer": "ipython3",
   "version": "3.10.10"
  }
 },
 "nbformat": 4,
 "nbformat_minor": 5
}
