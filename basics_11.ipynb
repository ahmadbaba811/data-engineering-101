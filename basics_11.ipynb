{
 "cells": [
  {
   "cell_type": "markdown",
   "id": "a70b4ea5d7f81d0e",
   "metadata": {},
   "source": [
    "# Python Fundamental II\n",
    "### Ojoayo Okuntade\n",
    "\n",
    "In this session we are delving deeper in to the **Python Programming Langauage**, we will be looking at the following concepts:\n",
    "\n",
    "* #### Conditionals: If, Elif, Else\n",
    "* #### Conditional Cont'd: If, Elif, Else with And/Or statements\n",
    "* #### Loops: For Loop & While Loop\n",
    "* #### Control Flow statements: Break, Continue and Pass\n",
    "* #### Functions\n",
    "* #### Functions: Filter, Map and Lambda Function\n"
   ]
  },
  {
   "cell_type": "markdown",
   "id": "d45b9f7a-9943-4d57-a76b-b68014b29a2c",
   "metadata": {},
   "source": [
    "---"
   ]
  },
  {
   "cell_type": "markdown",
   "id": "5ad4f399-ca20-4608-a7dd-e80e42bb1206",
   "metadata": {},
   "source": [
    "## Conditionals: If, Elif, Else\n",
    "In Python, conditionals control the flow of the program by executing different blocks of code based on conditions. The `if` statement evaluates a condition and executes the code block if the condition is `True`. If the condition is `False`, you can use `elif` (else if) for additional conditions or an `else` block for default execution.\n"
   ]
  },
  {
   "cell_type": "code",
   "execution_count": 43,
   "id": "ab9d6c9b8e991487",
   "metadata": {
    "ExecuteTime": {
     "end_time": "2025-01-08T00:10:52.086968Z",
     "start_time": "2025-01-08T00:10:52.072443Z"
    }
   },
   "outputs": [
    {
     "name": "stdout",
     "output_type": "stream",
     "text": [
      "False\n"
     ]
    }
   ],
   "source": [
    "# Using just the if statement and else.\n",
    "\n",
    "letter = \"a\"\n",
    "\n",
    "if letter == \"b\":\n",
    "    print(True)\n",
    "else:  # else coming in as a failsafe...\n",
    "    print(False)"
   ]
  },
  {
   "cell_type": "code",
   "execution_count": 30,
   "id": "542d21990310b69",
   "metadata": {
    "ExecuteTime": {
     "end_time": "2025-01-08T00:13:04.691331Z",
     "start_time": "2025-01-08T00:13:01.764145Z"
    }
   },
   "outputs": [
    {
     "name": "stdout",
     "output_type": "stream",
     "text": [
      "x is positive\n"
     ]
    }
   ],
   "source": [
    "# Using just if, elif and else\n",
    "x = 10\n",
    "\n",
    "if x > 0:  # Starts with this\n",
    "    print(\"x is positive\")\n",
    "elif x == 0:  # Comes to this if the first conditional is false\n",
    "    print(\"x is zero\")\n",
    "else:  # last option if all conditions are false\n",
    "    print(\"x is negative\")"
   ]
  },
  {
   "cell_type": "markdown",
   "id": "eca0b9e69bd12076",
   "metadata": {},
   "source": [
    "### More Explanation...\n",
    "\n",
    "* **`if` statement:** The `if` statement evaluates a condition. If the condition is `True`, the block of code indented below the `if` statement is executed. If the condition is `False`, the block is skipped.\n",
    "\n",
    "* **`elif` statement (else if):** The `elif` statement is used to check multiple conditions in sequence. It is placed after an `if` statement and before an optional `else` statement. If the preceding `if` condition is `False`, the `elif` condition is evaluated. If the `elif` condition is `True`, its corresponding block of code is executed. You can have multiple `elif` statements.\n",
    "\n",
    "* **`else` statement:** The `else` statement is an optional part of a conditional structure. It is placed at the end of an `if-elif` sequence. The `else` block is executed only if all preceding `if` and `elif` conditions are `False`."
   ]
  },
  {
   "cell_type": "markdown",
   "id": "1cbcf3c6-b557-413b-b6e5-8886fb810ce4",
   "metadata": {},
   "source": [
    "---"
   ]
  },
  {
   "cell_type": "markdown",
   "id": "55da0d545578d860",
   "metadata": {},
   "source": [
    "## Conditional Cont'd: If, Elif, Else with And/Or statements\n",
    "\n",
    "Logical operators are used to combine multiple conditions in conditional statements, creating more complex logical expressions.\n",
    "\n",
    "`and` operator: The `and` operator returns `True` if both operands (conditions) are `True`. Otherwise, it returns `False`.\n",
    "\n",
    "`or` operator: The `or` operator returns `True` if at least one of the operands (conditions) is `True`. It returns `False` only if both operands are `False`.\n",
    "\n",
    "### Example"
   ]
  },
  {
   "cell_type": "code",
   "execution_count": 31,
   "id": "47d11b7ab796ae20",
   "metadata": {},
   "outputs": [
    {
     "name": "stdout",
     "output_type": "stream",
     "text": [
      "The weather is pleasant.\n"
     ]
    }
   ],
   "source": [
    "temperature = 25\n",
    "humidity = 50\n",
    "\n",
    "if temperature > 30 and humidity > 60:\n",
    "    print(\"It's hot and humid.\")\n",
    "elif temperature > 30 or humidity > 60:\n",
    "    print(\"It's either hot or humid.\")\n",
    "else:\n",
    "    print(\"The weather is pleasant.\")\n"
   ]
  },
  {
   "cell_type": "markdown",
   "id": "dcdf00e7-683e-4615-b96f-f7f9392baf19",
   "metadata": {},
   "source": [
    "---"
   ]
  },
  {
   "cell_type": "markdown",
   "id": "c7b92b90-fe6b-426e-9142-35708e8047a1",
   "metadata": {},
   "source": [
    "## Loops\n",
    "\n",
    "In Python, the for loop is used to iterate over elements of a sequence (such as lists, strings, tuples, etc.). Unlike languages like programming languages like C or Pascal, where for loops are used to iterate over a range of numbers, Python's `for` loop is more versatile, allowing you to iterate over any iterable object, such as lists, dictionaries, and strings.\n",
    "\n",
    "### `For` Loop\n",
    "\n",
    "The `for` loop is used to iterate over a sequence (list, tuple, string, range, etc.) and perform actions for each element. it also known as a **definite loop** because it iterates over a specified number of elements.\n",
    "\n",
    "#### Syntax\n",
    "```python\n",
    "for variable in sequence:\n",
    "    # Code block\n",
    "\n",
    "```"
   ]
  },
  {
   "cell_type": "code",
   "execution_count": 32,
   "id": "2351ce70-9213-41d0-953a-9a0a5d7617ae",
   "metadata": {},
   "outputs": [
    {
     "name": "stdout",
     "output_type": "stream",
     "text": [
      "Football\n",
      "Softball\n",
      "Javelin\n",
      "Basketball\n",
      "Golf\n",
      "Long Jump\n"
     ]
    }
   ],
   "source": [
    "# For Loop with Lists\n",
    "sports = ['Football', 'Softball', 'Javelin', 'Basketball', 'Golf', 'Long Jump']\n",
    "for sport in sports:\n",
    "    print(sport)\n"
   ]
  },
  {
   "cell_type": "code",
   "execution_count": 33,
   "id": "3e75524f-3ba6-481d-8528-60b8e9c12e15",
   "metadata": {},
   "outputs": [
    {
     "name": "stdout",
     "output_type": "stream",
     "text": [
      "K\n",
      "i\n",
      "n\n",
      "e\n",
      "m\n",
      "a\n",
      "t\n",
      "i\n",
      "c\n",
      "i\n",
      "a\n",
      "n\n"
     ]
    }
   ],
   "source": [
    "# For Loop with strings\n",
    "name = 'Kinematician'\n",
    "for n in name:\n",
    "    print(n)"
   ]
  },
  {
   "cell_type": "code",
   "execution_count": 34,
   "id": "723af25c-a4c7-4943-a2ee-a8185f2a5915",
   "metadata": {},
   "outputs": [
    {
     "name": "stdout",
     "output_type": "stream",
     "text": [
      "0\n",
      "1\n",
      "2\n",
      "3\n",
      "4\n",
      "5\n",
      "6\n",
      "7\n",
      "8\n",
      "9\n"
     ]
    }
   ],
   "source": [
    "# For Loop with Range of Numbers\n",
    "for i in range(10):\n",
    "    print(i)"
   ]
  },
  {
   "cell_type": "markdown",
   "id": "5a207d28-35a8-490a-ba01-b9d1c555f9f7",
   "metadata": {},
   "source": [
    "### `While` Loop\n",
    "\n",
    "The `while` loop continues executing as long as the condition is `True`. It is also known as **Indefinite Loop** because it does not seem to have a specified end until the condition becomes `False`.\n",
    "\n",
    "#### Syntax:\n",
    "```python\n",
    "while condition:\n",
    "    # Code block\n",
    "```"
   ]
  },
  {
   "cell_type": "markdown",
   "id": "c494ad4d-2662-449b-8e9b-9d892b8acdf2",
   "metadata": {},
   "source": [
    "#### Example"
   ]
  },
  {
   "cell_type": "code",
   "execution_count": 35,
   "id": "39bbcb31-296c-4bcd-a7a8-3c64cc513efc",
   "metadata": {},
   "outputs": [
    {
     "name": "stdout",
     "output_type": "stream",
     "text": [
      "Count is 0\n",
      "Count is 1\n",
      "Count is 2\n",
      "Count is 3\n",
      "Count is 4\n"
     ]
    }
   ],
   "source": [
    "count = 0\n",
    "while count < 5:\n",
    "    print(f\"Count is {count}\")\n",
    "    count += 1\n"
   ]
  },
  {
   "cell_type": "markdown",
   "id": "98bef37a5c43aa65",
   "metadata": {},
   "source": [
    "#### While Loop Illustrated\n",
    "![image](images/while_loop.gif)"
   ]
  },
  {
   "cell_type": "markdown",
   "id": "c8509db5b846f314",
   "metadata": {},
   "source": [
    "#### Another one\n",
    "\n",
    "Write a program that checks series of number if there \n",
    "\n",
    "![](images/loop_over_list.gif)"
   ]
  },
  {
   "cell_type": "markdown",
   "id": "e94d8459-1752-46be-b637-b8115e6e88d5",
   "metadata": {},
   "source": [
    "---"
   ]
  },
  {
   "cell_type": "markdown",
   "id": "7814cf4d-80d3-4b91-b06f-91e92852acaf",
   "metadata": {},
   "source": [
    "## Control Flow Statements: Break, Continue, and Pass\n",
    "* `break`: The `break` statement immediately terminates the loop (both `for` and `while`) and transfers control to the statement immediately following the loop.\n",
    "* `continue`: The continue statement skips the rest of the current iteration of the loop and proceeds to the next iteration.\n",
    "* `pass`: The pass statement is a null operation. When it is executed, nothing happens. It is useful as a placeholder when a statement is required syntactically, but you do not want any command or code to execute.\n",
    "\n",
    "#### Example"
   ]
  },
  {
   "cell_type": "code",
   "execution_count": 36,
   "id": "7f209932-174d-437e-a806-5febc7e0012b",
   "metadata": {},
   "outputs": [
    {
     "name": "stdout",
     "output_type": "stream",
     "text": [
      "0\n",
      "1\n",
      "2\n",
      "3\n",
      "4\n"
     ]
    }
   ],
   "source": [
    "# Using break\n",
    "for i in range(10):\n",
    "    if i == 5:\n",
    "        break\n",
    "    print(i)"
   ]
  },
  {
   "cell_type": "code",
   "execution_count": 37,
   "id": "04b2df27-1e48-4918-8fa6-f28578c505d7",
   "metadata": {},
   "outputs": [
    {
     "name": "stdout",
     "output_type": "stream",
     "text": [
      "1\n",
      "3\n",
      "5\n",
      "7\n",
      "9\n"
     ]
    }
   ],
   "source": [
    "# Using continue\n",
    "for i in range(10):\n",
    "    if i % 2 == 0:\n",
    "        continue\n",
    "    print(i)"
   ]
  },
  {
   "cell_type": "code",
   "execution_count": 38,
   "id": "e01ff107-5254-4755-a3d6-b58d47313968",
   "metadata": {},
   "outputs": [
    {
     "name": "stdout",
     "output_type": "stream",
     "text": [
      "0\n",
      "1\n",
      "2\n",
      "3\n",
      "4\n"
     ]
    }
   ],
   "source": [
    "# Using pass\n",
    "for i in range(5):\n",
    "    if i == 3:\n",
    "        pass\n",
    "    print(i)"
   ]
  },
  {
   "cell_type": "markdown",
   "id": "22ef33ce",
   "metadata": {},
   "source": [
    "## Code Quest: FizzBuzz\n",
    "\n",
    "Write a program (loop) that prints numbers from 1 to n (eg. 100). However, for multiples of three, print \"**Fizz**\" instead of the number. For multiples of five, print \"**Buzz**.\" For numbers that are multiples of both three and five, print \"**FizzBuzz**."
   ]
  },
  {
   "cell_type": "markdown",
   "id": "8e5216ab-95d3-4c40-a4c4-420d86aa64d1",
   "metadata": {},
   "source": [
    "---"
   ]
  },
  {
   "cell_type": "code",
   "execution_count": 45,
   "id": "2e8a0fe2",
   "metadata": {},
   "outputs": [
    {
     "name": "stdout",
     "output_type": "stream",
     "text": [
      "1\n",
      "2\n",
      "Fizz\n",
      "4\n",
      "Buzz\n",
      "Fizz\n",
      "7\n",
      "8\n",
      "Fizz\n",
      "Buzz\n",
      "11\n",
      "Fizz\n",
      "13\n",
      "14\n",
      "FizzBuzz\n",
      "16\n",
      "17\n",
      "Fizz\n",
      "19\n",
      "Buzz\n",
      "Fizz\n",
      "22\n",
      "23\n",
      "Fizz\n",
      "Buzz\n",
      "26\n",
      "Fizz\n",
      "28\n",
      "29\n",
      "FizzBuzz\n",
      "31\n",
      "32\n",
      "Fizz\n",
      "34\n",
      "Buzz\n",
      "Fizz\n",
      "37\n",
      "38\n",
      "Fizz\n",
      "Buzz\n",
      "41\n",
      "Fizz\n",
      "43\n",
      "44\n",
      "FizzBuzz\n",
      "46\n",
      "47\n",
      "Fizz\n",
      "49\n",
      "Buzz\n",
      "Fizz\n",
      "52\n",
      "53\n",
      "Fizz\n",
      "Buzz\n",
      "56\n",
      "Fizz\n",
      "58\n",
      "59\n",
      "FizzBuzz\n",
      "61\n",
      "62\n",
      "Fizz\n",
      "64\n",
      "Buzz\n",
      "Fizz\n",
      "67\n",
      "68\n",
      "Fizz\n",
      "Buzz\n",
      "71\n",
      "Fizz\n",
      "73\n",
      "74\n",
      "FizzBuzz\n",
      "76\n",
      "77\n",
      "Fizz\n",
      "79\n",
      "Buzz\n",
      "Fizz\n",
      "82\n",
      "83\n",
      "Fizz\n",
      "Buzz\n",
      "86\n",
      "Fizz\n",
      "88\n",
      "89\n",
      "FizzBuzz\n",
      "91\n",
      "92\n",
      "Fizz\n",
      "94\n",
      "Buzz\n",
      "Fizz\n",
      "97\n",
      "98\n",
      "Fizz\n",
      "Buzz\n"
     ]
    }
   ],
   "source": [
    "## Answers to the exercises...\n",
    "n = 100  \n",
    "\n",
    "for i in range(1, n + 1):\n",
    "    if i % 3 == 0 and i % 5 == 0:\n",
    "        print(\"FizzBuzz\")\n",
    "    elif i % 3 == 0:\n",
    "        print(\"Fizz\")\n",
    "    elif i % 5 == 0:\n",
    "        print(\"Buzz\")\n",
    "    else:\n",
    "        print(i)"
   ]
  },
  {
   "cell_type": "markdown",
   "id": "17c74d39-b70c-4ace-92cb-181767786514",
   "metadata": {},
   "source": [
    "## Function\n",
    "\n",
    "Functions are reusable blocks of code that perform specific tasks. They are defined using the `def` keyword and can accept arguments and return values.\n",
    "\n",
    "#### Syntax:\n",
    "```python\n",
    "def function_name(parameters):\n",
    "    # Code block\n",
    "    return value\n",
    "\n",
    "# To execute\n",
    "print(function_name(argument))\n",
    "```\n",
    "\n",
    "#### Example\n"
   ]
  },
  {
   "cell_type": "code",
   "execution_count": 40,
   "id": "d9bd30b1-67a2-4030-a07e-7e3ab98d9d77",
   "metadata": {},
   "outputs": [
    {
     "name": "stdout",
     "output_type": "stream",
     "text": [
      "Hello, Alice!\n"
     ]
    }
   ],
   "source": [
    "# Create a function that greets an individual\n",
    "\n",
    "def greet(name):\n",
    "    return f\"Hello, {name}!\"\n",
    "\n",
    "# Execute the greet function\n",
    "print(greet(\"Alice\"))\n"
   ]
  },
  {
   "cell_type": "code",
   "execution_count": 42,
   "id": "8875f977641933a0",
   "metadata": {},
   "outputs": [
    {
     "ename": "IndentationError",
     "evalue": "unindent does not match any outer indentation level (<string>, line 7)",
     "output_type": "error",
     "traceback": [
      "  \u001b[36mFile \u001b[39m\u001b[32m<string>:7\u001b[39m\n\u001b[31m    \u001b[39m\u001b[31mmultiple(number=6)  # 6 is the argument for the numbers parameter, we can avoid using the mult parameter; since it is a default.\u001b[39m\n                                                                                                                                    ^\n\u001b[31mIndentationError\u001b[39m\u001b[31m:\u001b[39m unindent does not match any outer indentation level\n"
     ]
    }
   ],
   "source": [
    "# Create a function that gives the multiple of number from the 1st - nth\n",
    "def multiple(number, mult=12):\n",
    "    for i in range(1, mult + 1):\n",
    "        print(f\"{number} X {i} = {number * i}\")\n",
    "        \n",
    "# Execute the function\n",
    " multiple(number=6)  # 6 is the argument for the numbers parameter, we can avoid using the mult parameter; since it is a default."
   ]
  },
  {
   "cell_type": "markdown",
   "id": "6ceee46f84e4b391",
   "metadata": {},
   "source": [
    "## Functions: Filter, Map, and Lambda Function\n",
    "\n",
    "#### Lambda Function\n",
    "A lambda function is an anonymous, one-line function defined using the `lambda` keyword. It is often used with `filter()` and `map()`.\n",
    "\n",
    "#### Example:\n"
   ]
  },
  {
   "cell_type": "code",
   "execution_count": null,
   "id": "b0eab71d4b061e6d",
   "metadata": {},
   "outputs": [],
   "source": [
    "add = lambda x, y: x + y\n",
    "print(add(3, 5))  # Output: 8\n"
   ]
  },
  {
   "cell_type": "markdown",
   "id": "69289d20a129f4ec",
   "metadata": {},
   "source": [
    "#### Filter Function\n",
    "The `filter()` function filters elements from an iterable based on a condition. It requires a function (mostly `lambda` functions) and an iterable as inputs.\n",
    "\n",
    "#### Example:"
   ]
  },
  {
   "cell_type": "code",
   "execution_count": null,
   "id": "877812f1ffa8bb2a",
   "metadata": {},
   "outputs": [],
   "source": [
    "numbers = [1, 2, 3, 4, 5, 6]\n",
    "even_numbers = list(filter(lambda x: x % 2 == 0, numbers))\n",
    "print(even_numbers)  # Output: [2, 4, 6]\n"
   ]
  },
  {
   "cell_type": "markdown",
   "id": "a399a53c6d8936d2",
   "metadata": {},
   "source": [
    "#### Map Function\n",
    "The `map()` function applies a given function to all elements in an iterable.\n",
    "\n",
    "#### Example:"
   ]
  },
  {
   "cell_type": "code",
   "execution_count": null,
   "id": "72849b20c17a3740",
   "metadata": {
    "ExecuteTime": {
     "end_time": "2025-01-10T13:30:00.142210Z",
     "start_time": "2025-01-10T13:30:00.112595Z"
    }
   },
   "outputs": [
    {
     "name": "stdout",
     "output_type": "stream",
     "text": [
      "[1, 4, 9, 16, 25]\n"
     ]
    }
   ],
   "source": [
    "numbers = [1, 2, 3, 4, 5]\n",
    "squared = list(map(lambda x: x**2, numbers))\n",
    "print(squared)  # Output: [1, 4, 9, 16, 25]\n"
   ]
  },
  {
   "cell_type": "markdown",
   "id": "3726242ac5fe73cb",
   "metadata": {},
   "source": []
  },
  {
   "cell_type": "markdown",
   "id": "36e40915295c586f",
   "metadata": {},
   "source": [
    "### Exercise\n",
    "Problem: Write a program that takes a list of numbers, filters out the odd numbers, squares the even numbers, and prints the result. Include conditionals and loops."
   ]
  },
  {
   "cell_type": "code",
   "execution_count": null,
   "id": "500b7774244ead47",
   "metadata": {},
   "outputs": [],
   "source": [
    "numbers = [1, 2, 3, 4, 5, 6, 7, 8, 9, 10]\n",
    "\n",
    "# Step 1: Filter out odd numbers\n",
    "even_numbers = list(filter(lambda x: x % 2 == 0, numbers))\n",
    "\n",
    "# Step 2: Square the even numbers\n",
    "squared = list(map(lambda x: x**2, even_numbers))\n",
    "\n",
    "# Step 3: Display results\n",
    "for num in squared:\n",
    "    print(f\"Square: {num}\")\n"
   ]
  },
  {
   "cell_type": "markdown",
   "id": "b7902c859f53d5c1",
   "metadata": {},
   "source": [
    "### List Comprehension\n",
    "\n",
    "List comprehension is a concise way to create lists in Python. It provides an elegant, one-liner syntax to generate new lists by applying an expression to each element in an iterable, optionally filtering elements with a condition.\n",
    "\n",
    "#### Syntax:\n",
    "```python\n",
    "[expression for item in iterable if condition]\n",
    "```\n",
    "* `expression`: The operation or value to be added to the new list.\n",
    "* `item`: The current element being processed in the iterable.\n",
    "* `iterable`: Any sequence or collection (e.g., `list`, `range`, `string`).\n",
    "* `if condition` (optional): A filter applied to include only certain elements."
   ]
  },
  {
   "cell_type": "code",
   "execution_count": null,
   "id": "44cd61e04d360b1a",
   "metadata": {},
   "outputs": [],
   "source": [
    "# Create a list of squares from 1 to 5\n",
    "squares = [x**2 for x in range(1, 6)]\n",
    "print(squares)  # Output: [1, 4, 9, 16, 25]\n"
   ]
  },
  {
   "cell_type": "code",
   "execution_count": null,
   "id": "b5371aa834d28d18",
   "metadata": {},
   "outputs": [],
   "source": [
    "# Create a list of even numbers from 1 to 10\n",
    "\n"
   ]
  },
  {
   "cell_type": "code",
   "execution_count": null,
   "id": "f89728252dd1224a",
   "metadata": {},
   "outputs": [],
   "source": [
    "# String Manipulation\n",
    "# Create a list of uppercase letters from a string\n",
    "words = \"hello world\"\n",
    "\n"
   ]
  }
 ],
 "metadata": {
  "kernelspec": {
   "display_name": "Python 3",
   "language": "python",
   "name": "python3"
  },
  "language_info": {
   "codemirror_mode": {
    "name": "ipython",
    "version": 3
   },
   "file_extension": ".py",
   "mimetype": "text/x-python",
   "name": "python",
   "nbconvert_exporter": "python",
   "pygments_lexer": "ipython3",
   "version": "3.12.10"
  }
 },
 "nbformat": 4,
 "nbformat_minor": 5
}
